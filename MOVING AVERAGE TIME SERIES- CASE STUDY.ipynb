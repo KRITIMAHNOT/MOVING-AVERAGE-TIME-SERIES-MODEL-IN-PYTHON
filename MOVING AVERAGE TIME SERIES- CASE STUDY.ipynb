{
 "cells": [
  {
   "cell_type": "markdown",
   "id": "aca081db",
   "metadata": {},
   "source": [
    "# CASE STUDY ON AIR POLLUTION"
   ]
  },
  {
   "cell_type": "markdown",
   "id": "5a33ff2e",
   "metadata": {},
   "source": [
    "# INTRODUCTION TO THE TOPIC:"
   ]
  },
  {
   "cell_type": "markdown",
   "id": "e9dd05c9",
   "metadata": {},
   "source": [
    "Air pollution is contamination of the indoor or outdoor environment by any chemical, physical or biological agent that modifies the natural characteristics of the atmosphere. \n",
    "WHO data show that almost all of the global population (99%) breathe air that exceeds WHO guideline limits and contains high levels of pollutants, with low- and middle-income countries suffering from the highest exposures. \n",
    "\n",
    "The WHO (World Health Organization) air quality database compiles data on ground measurements of annual mean concentrations of nitrogen dioxide (NO2), \"Particulate Matter\" of a diameter equal or smaller than 10 μm (PM10) or equal or smaller than 2.5 μm (PM2.5) which aim at representing an average for the city or town as a whole, rather than for individual stations. Both groups of pollutants originate mainly from human activities related to fossil fuel combustion.\n",
    "\n",
    "The database was released in April 2022 and currently hosts data on air quality for over 6000 human settlements in more than 100 countries.\n",
    "The database is updated regularly every 2-3 years since 2011 and this is the fifth update. The data compiled in this database is used as input to derive the Sustainable Development Goal Indicator 11.6.2, Air quality in cities, for which WHO is custodial agency.\n",
    "\n",
    "As per the latest reports of 2021, Africa, the second largest continent (after Asia) is home to some of the world's most polluted cities while Bangladesh has an average PM2.5 concentration of 76.9 micrograms per cubic meter of air (µg/m3) in 2021, making it the most polluted country in the world. "
   ]
  },
  {
   "cell_type": "markdown",
   "id": "2a6ae758",
   "metadata": {},
   "source": [
    "# PROBLEM STATEMENT:"
   ]
  },
  {
   "cell_type": "markdown",
   "id": "e787b44e",
   "metadata": {},
   "source": [
    "The latest data of 2021 says that India is the third-most polluted country in the world, with an average PM2.5 concentration of 51.90. Of the 30 most polluted cities in the world, 21 of them are located in India.\n",
    "Bhiwadi in Rajasthan is the highly polluted city in India as of 2021 (the analysis of which is done at the later stage of the model).\n",
    "\n",
    "Keeping the harmful effect of air pollution that it causes, in mind, the \"problem statement\" here is to study the air pollution in India for year 2010-2019 (except 2015).\n",
    "\n",
    "The factors involved are: \n",
    "\n",
    "- \"PM2.5\" (particles less than 2.5 micrometers in diameter) can penetrate deeply into the lung, irritate and corrode the alveolar wall, and consequently impair lung function.\n",
    "- PM10 describes inhalable particles, with diameters that are generally 10 micrometers and smaller.\n",
    "- NO2, is a gaseous air pollutant composed of nitrogen and oxygen which forms when fossil fuels such as coal, oil, gas or diesel are burned at high temperatures"
   ]
  },
  {
   "cell_type": "markdown",
   "id": "39f560ff",
   "metadata": {},
   "source": [
    "# OBJECTIVE:"
   ]
  },
  {
   "cell_type": "markdown",
   "id": "e452753f",
   "metadata": {},
   "source": [
    "The aim of the study is to compare the air pollution in the cities (region-wise) of India and use the suitable predictive analysis to conclude the study.\n",
    "Since we have time (years) included in our study, the best way to model and analyse the data is \"Time Series Analysis\"."
   ]
  },
  {
   "cell_type": "markdown",
   "id": "33db4a77",
   "metadata": {},
   "source": [
    "We start our analysis with the pre-requisites of loading the required libraries and importing the dataset."
   ]
  },
  {
   "cell_type": "code",
   "execution_count": 1,
   "id": "c259896b",
   "metadata": {
    "scrolled": true
   },
   "outputs": [
    {
     "data": {
      "text/html": [
       "<div>\n",
       "<style scoped>\n",
       "    .dataframe tbody tr th:only-of-type {\n",
       "        vertical-align: middle;\n",
       "    }\n",
       "\n",
       "    .dataframe tbody tr th {\n",
       "        vertical-align: top;\n",
       "    }\n",
       "\n",
       "    .dataframe thead th {\n",
       "        text-align: right;\n",
       "    }\n",
       "</style>\n",
       "<table border=\"1\" class=\"dataframe\">\n",
       "  <thead>\n",
       "    <tr style=\"text-align: right;\">\n",
       "      <th></th>\n",
       "      <th>WHO_Region</th>\n",
       "      <th>ISO3</th>\n",
       "      <th>Country</th>\n",
       "      <th>City</th>\n",
       "      <th>Year</th>\n",
       "      <th>PM2_5</th>\n",
       "      <th>PM10</th>\n",
       "      <th>NO2</th>\n",
       "      <th>PM2_5_p</th>\n",
       "      <th>PM10_p</th>\n",
       "      <th>NO2_p</th>\n",
       "      <th>Reference</th>\n",
       "      <th>Monitoring Station</th>\n",
       "      <th>Version of Database</th>\n",
       "      <th>Status</th>\n",
       "    </tr>\n",
       "  </thead>\n",
       "  <tbody>\n",
       "    <tr>\n",
       "      <th>0</th>\n",
       "      <td>Eastern Mediterranean Region</td>\n",
       "      <td>AFG</td>\n",
       "      <td>Afghanistan</td>\n",
       "      <td>Kabul</td>\n",
       "      <td>2019</td>\n",
       "      <td>119.77</td>\n",
       "      <td>NaN</td>\n",
       "      <td>NaN</td>\n",
       "      <td>18.0</td>\n",
       "      <td>NaN</td>\n",
       "      <td>NaN</td>\n",
       "      <td>U.S. Department of State, United States Enviro...</td>\n",
       "      <td>NaN</td>\n",
       "      <td>2022</td>\n",
       "      <td>NaN</td>\n",
       "    </tr>\n",
       "    <tr>\n",
       "      <th>1</th>\n",
       "      <td>European Region</td>\n",
       "      <td>ALB</td>\n",
       "      <td>Albania</td>\n",
       "      <td>Durres</td>\n",
       "      <td>2015</td>\n",
       "      <td>NaN</td>\n",
       "      <td>17.65</td>\n",
       "      <td>26.63</td>\n",
       "      <td>NaN</td>\n",
       "      <td>NaN</td>\n",
       "      <td>83.961187</td>\n",
       "      <td>European Environment Agency (downloaded in 2021)</td>\n",
       "      <td>NaN</td>\n",
       "      <td>2022</td>\n",
       "      <td>NaN</td>\n",
       "    </tr>\n",
       "    <tr>\n",
       "      <th>2</th>\n",
       "      <td>European Region</td>\n",
       "      <td>ALB</td>\n",
       "      <td>Albania</td>\n",
       "      <td>Durres</td>\n",
       "      <td>2016</td>\n",
       "      <td>14.32</td>\n",
       "      <td>24.56</td>\n",
       "      <td>24.78</td>\n",
       "      <td>NaN</td>\n",
       "      <td>NaN</td>\n",
       "      <td>87.932605</td>\n",
       "      <td>European Environment Agency (downloaded in 2021)</td>\n",
       "      <td>NaN</td>\n",
       "      <td>2022</td>\n",
       "      <td>NaN</td>\n",
       "    </tr>\n",
       "    <tr>\n",
       "      <th>3</th>\n",
       "      <td>European Region</td>\n",
       "      <td>ALB</td>\n",
       "      <td>Albania</td>\n",
       "      <td>Elbasan</td>\n",
       "      <td>2015</td>\n",
       "      <td>NaN</td>\n",
       "      <td>NaN</td>\n",
       "      <td>23.96</td>\n",
       "      <td>NaN</td>\n",
       "      <td>NaN</td>\n",
       "      <td>97.853881</td>\n",
       "      <td>European Environment Agency (downloaded in 2021)</td>\n",
       "      <td>NaN</td>\n",
       "      <td>2022</td>\n",
       "      <td>NaN</td>\n",
       "    </tr>\n",
       "    <tr>\n",
       "      <th>4</th>\n",
       "      <td>European Region</td>\n",
       "      <td>ALB</td>\n",
       "      <td>NaN</td>\n",
       "      <td>Elbasan</td>\n",
       "      <td>2016</td>\n",
       "      <td>NaN</td>\n",
       "      <td>NaN</td>\n",
       "      <td>26.26</td>\n",
       "      <td>NaN</td>\n",
       "      <td>NaN</td>\n",
       "      <td>96.049636</td>\n",
       "      <td>European Environment Agency (downloaded in 2021)</td>\n",
       "      <td>NaN</td>\n",
       "      <td>2022</td>\n",
       "      <td>NaN</td>\n",
       "    </tr>\n",
       "  </tbody>\n",
       "</table>\n",
       "</div>"
      ],
      "text/plain": [
       "                     WHO_Region ISO3     Country      City  Year   PM2_5  \\\n",
       "0  Eastern Mediterranean Region  AFG  Afghanistan    Kabul  2019  119.77   \n",
       "1               European Region  ALB      Albania   Durres  2015     NaN   \n",
       "2               European Region  ALB      Albania   Durres  2016   14.32   \n",
       "3               European Region  ALB      Albania  Elbasan  2015     NaN   \n",
       "4               European Region  ALB          NaN  Elbasan  2016     NaN   \n",
       "\n",
       "    PM10    NO2  PM2_5_p  PM10_p      NO2_p  \\\n",
       "0    NaN    NaN     18.0     NaN        NaN   \n",
       "1  17.65  26.63      NaN     NaN  83.961187   \n",
       "2  24.56  24.78      NaN     NaN  87.932605   \n",
       "3    NaN  23.96      NaN     NaN  97.853881   \n",
       "4    NaN  26.26      NaN     NaN  96.049636   \n",
       "\n",
       "                                           Reference Monitoring Station  \\\n",
       "0  U.S. Department of State, United States Enviro...                NaN   \n",
       "1   European Environment Agency (downloaded in 2021)                NaN   \n",
       "2   European Environment Agency (downloaded in 2021)                NaN   \n",
       "3   European Environment Agency (downloaded in 2021)                NaN   \n",
       "4   European Environment Agency (downloaded in 2021)                NaN   \n",
       "\n",
       "   Version of Database  Status  \n",
       "0                 2022     NaN  \n",
       "1                 2022     NaN  \n",
       "2                 2022     NaN  \n",
       "3                 2022     NaN  \n",
       "4                 2022     NaN  "
      ]
     },
     "execution_count": 1,
     "metadata": {},
     "output_type": "execute_result"
    }
   ],
   "source": [
    "#importing the libraries and dataset\n",
    "import pandas as pd\n",
    "import numpy as np\n",
    "import seaborn as sns\n",
    "import matplotlib.pyplot as plt\n",
    "air_p = pd.read_excel(r'E:/DATASETS/air_p_ds.xlsx')\n",
    "d = pd.DataFrame(air_p)\n",
    "d.head()"
   ]
  },
  {
   "cell_type": "code",
   "execution_count": 2,
   "id": "7c463933",
   "metadata": {},
   "outputs": [
    {
     "name": "stdout",
     "output_type": "stream",
     "text": [
      "<class 'pandas.core.frame.DataFrame'>\n",
      "RangeIndex: 32131 entries, 0 to 32130\n",
      "Data columns (total 15 columns):\n",
      " #   Column               Non-Null Count  Dtype  \n",
      "---  ------               --------------  -----  \n",
      " 0   WHO_Region           32130 non-null  object \n",
      " 1   ISO3                 32131 non-null  object \n",
      " 2   Country              32130 non-null  object \n",
      " 3   City                 32131 non-null  object \n",
      " 4   Year                 32131 non-null  int64  \n",
      " 5   PM2_5                14989 non-null  object \n",
      " 6   PM10                 21106 non-null  float64\n",
      " 7   NO2                  22198 non-null  float64\n",
      " 8   PM2_5_p              7275 non-null   float64\n",
      " 9   PM10_p               5374 non-null   float64\n",
      " 10  NO2_p                19893 non-null  float64\n",
      " 11  Reference            32131 non-null  object \n",
      " 12  Monitoring Station   8651 non-null   object \n",
      " 13  Version of Database  32131 non-null  int64  \n",
      " 14  Status               0 non-null      float64\n",
      "dtypes: float64(6), int64(2), object(7)\n",
      "memory usage: 3.7+ MB\n"
     ]
    }
   ],
   "source": [
    "d.info() #gives the information about the dataset"
   ]
  },
  {
   "cell_type": "code",
   "execution_count": 3,
   "id": "e159b95e",
   "metadata": {},
   "outputs": [
    {
     "data": {
      "text/plain": [
       "(32131, 15)"
      ]
     },
     "execution_count": 3,
     "metadata": {},
     "output_type": "execute_result"
    }
   ],
   "source": [
    "d.shape"
   ]
  },
  {
   "cell_type": "markdown",
   "id": "58575637",
   "metadata": {},
   "source": [
    "We see our original dataset has 32131 rows and 15 columns "
   ]
  },
  {
   "cell_type": "code",
   "execution_count": 4,
   "id": "aa938158",
   "metadata": {},
   "outputs": [
    {
     "data": {
      "text/plain": [
       "Index(['WHO_Region', 'ISO3', 'Country ', 'City', 'Year', 'PM2_5', 'PM10',\n",
       "       'NO2', 'PM2_5_p', 'PM10_p', 'NO2_p', 'Reference', 'Monitoring Station',\n",
       "       'Version of Database', 'Status'],\n",
       "      dtype='object')"
      ]
     },
     "execution_count": 4,
     "metadata": {},
     "output_type": "execute_result"
    }
   ],
   "source": [
    "d.columns"
   ]
  },
  {
   "cell_type": "markdown",
   "id": "9ccb48cb",
   "metadata": {},
   "source": [
    "The columns we have in the dataset include WHO_Region, IS03 (abbreviation of countries), Country and their respective Cities, Year and the factors. "
   ]
  },
  {
   "cell_type": "markdown",
   "id": "99a1905d",
   "metadata": {},
   "source": [
    "Next, we import the data for India to be specifically used in our analysis. To study the data of our country region wise, we have created another column specifying regions of cities (North, South, East, West and Central India)."
   ]
  },
  {
   "cell_type": "code",
   "execution_count": 5,
   "id": "114ff2d1",
   "metadata": {},
   "outputs": [
    {
     "data": {
      "text/html": [
       "<div>\n",
       "<style scoped>\n",
       "    .dataframe tbody tr th:only-of-type {\n",
       "        vertical-align: middle;\n",
       "    }\n",
       "\n",
       "    .dataframe tbody tr th {\n",
       "        vertical-align: top;\n",
       "    }\n",
       "\n",
       "    .dataframe thead th {\n",
       "        text-align: right;\n",
       "    }\n",
       "</style>\n",
       "<table border=\"1\" class=\"dataframe\">\n",
       "  <thead>\n",
       "    <tr style=\"text-align: right;\">\n",
       "      <th></th>\n",
       "      <th>WHO_Region</th>\n",
       "      <th>ISO3</th>\n",
       "      <th>Country</th>\n",
       "      <th>Region</th>\n",
       "      <th>City</th>\n",
       "      <th>Year</th>\n",
       "      <th>PM2_5</th>\n",
       "      <th>PM10</th>\n",
       "      <th>NO2</th>\n",
       "      <th>PM2_5_p</th>\n",
       "      <th>PM10_p</th>\n",
       "      <th>NO2_p</th>\n",
       "      <th>Reference</th>\n",
       "      <th>Monitoring_Station</th>\n",
       "      <th>Version_of_Database</th>\n",
       "      <th>Status</th>\n",
       "    </tr>\n",
       "  </thead>\n",
       "  <tbody>\n",
       "    <tr>\n",
       "      <th>0</th>\n",
       "      <td>South East Asia Region</td>\n",
       "      <td>IND</td>\n",
       "      <td>India</td>\n",
       "      <td>Central</td>\n",
       "      <td>Amlai</td>\n",
       "      <td>2016</td>\n",
       "      <td>26.5</td>\n",
       "      <td>73.0</td>\n",
       "      <td>22.50</td>\n",
       "      <td>41.346154</td>\n",
       "      <td>66.826923</td>\n",
       "      <td>66.826923</td>\n",
       "      <td>Central Pollution Control Board</td>\n",
       "      <td>2 NA</td>\n",
       "      <td>2022</td>\n",
       "      <td>NaN</td>\n",
       "    </tr>\n",
       "    <tr>\n",
       "      <th>1</th>\n",
       "      <td>South East Asia Region</td>\n",
       "      <td>IND</td>\n",
       "      <td>India</td>\n",
       "      <td>Central</td>\n",
       "      <td>Amlai</td>\n",
       "      <td>2017</td>\n",
       "      <td>30.0</td>\n",
       "      <td>82.0</td>\n",
       "      <td>24.50</td>\n",
       "      <td>84.134615</td>\n",
       "      <td>86.057692</td>\n",
       "      <td>86.057692</td>\n",
       "      <td>Central Pollution Control Board</td>\n",
       "      <td>2 NA</td>\n",
       "      <td>2022</td>\n",
       "      <td>NaN</td>\n",
       "    </tr>\n",
       "    <tr>\n",
       "      <th>2</th>\n",
       "      <td>South East Asia Region</td>\n",
       "      <td>IND</td>\n",
       "      <td>India</td>\n",
       "      <td>Central</td>\n",
       "      <td>Amlai</td>\n",
       "      <td>2018</td>\n",
       "      <td>29.0</td>\n",
       "      <td>90.5</td>\n",
       "      <td>20.50</td>\n",
       "      <td>99.038461</td>\n",
       "      <td>98.557692</td>\n",
       "      <td>98.557692</td>\n",
       "      <td>Central Pollution Control Board</td>\n",
       "      <td>2 NA</td>\n",
       "      <td>2022</td>\n",
       "      <td>NaN</td>\n",
       "    </tr>\n",
       "    <tr>\n",
       "      <th>3</th>\n",
       "      <td>South East Asia Region</td>\n",
       "      <td>IND</td>\n",
       "      <td>India</td>\n",
       "      <td>Central</td>\n",
       "      <td>Amlai</td>\n",
       "      <td>2019</td>\n",
       "      <td>NaN</td>\n",
       "      <td>85.0</td>\n",
       "      <td>19.50</td>\n",
       "      <td>NaN</td>\n",
       "      <td>62.019231</td>\n",
       "      <td>62.019231</td>\n",
       "      <td>Central Pollution Control Board</td>\n",
       "      <td>2 NA</td>\n",
       "      <td>2022</td>\n",
       "      <td>NaN</td>\n",
       "    </tr>\n",
       "    <tr>\n",
       "      <th>4</th>\n",
       "      <td>South East Asia Region</td>\n",
       "      <td>IND</td>\n",
       "      <td>India</td>\n",
       "      <td>Central</td>\n",
       "      <td>Bhillai</td>\n",
       "      <td>2010</td>\n",
       "      <td>NaN</td>\n",
       "      <td>NaN</td>\n",
       "      <td>22.33</td>\n",
       "      <td>NaN</td>\n",
       "      <td>NaN</td>\n",
       "      <td>85.897436</td>\n",
       "      <td>Central Pollution Control Board</td>\n",
       "      <td>3 NA</td>\n",
       "      <td>2022</td>\n",
       "      <td>NaN</td>\n",
       "    </tr>\n",
       "  </tbody>\n",
       "</table>\n",
       "</div>"
      ],
      "text/plain": [
       "               WHO_Region ISO3 Country    Region     City  Year  PM2_5  PM10  \\\n",
       "0  South East Asia Region  IND    India  Central    Amlai  2016   26.5  73.0   \n",
       "1  South East Asia Region  IND    India  Central    Amlai  2017   30.0  82.0   \n",
       "2  South East Asia Region  IND    India  Central    Amlai  2018   29.0  90.5   \n",
       "3  South East Asia Region  IND    India  Central    Amlai  2019    NaN  85.0   \n",
       "4  South East Asia Region  IND    India  Central  Bhillai  2010    NaN   NaN   \n",
       "\n",
       "     NO2    PM2_5_p     PM10_p      NO2_p                        Reference  \\\n",
       "0  22.50  41.346154  66.826923  66.826923  Central Pollution Control Board   \n",
       "1  24.50  84.134615  86.057692  86.057692  Central Pollution Control Board   \n",
       "2  20.50  99.038461  98.557692  98.557692  Central Pollution Control Board   \n",
       "3  19.50        NaN  62.019231  62.019231  Central Pollution Control Board   \n",
       "4  22.33        NaN        NaN  85.897436  Central Pollution Control Board   \n",
       "\n",
       "  Monitoring_Station  Version_of_Database  Status  \n",
       "0               2 NA                 2022     NaN  \n",
       "1               2 NA                 2022     NaN  \n",
       "2               2 NA                 2022     NaN  \n",
       "3               2 NA                 2022     NaN  \n",
       "4               3 NA                 2022     NaN  "
      ]
     },
     "execution_count": 5,
     "metadata": {},
     "output_type": "execute_result"
    }
   ],
   "source": [
    "#importing Indian data (with a new column \"region\" included in it)\n",
    "india = pd.read_excel(r'E:/DATASETS/cs-dataset.xlsx')\n",
    "df = pd.DataFrame(india)\n",
    "df.head()"
   ]
  },
  {
   "cell_type": "code",
   "execution_count": 6,
   "id": "985babe6",
   "metadata": {},
   "outputs": [
    {
     "name": "stdout",
     "output_type": "stream",
     "text": [
      "<class 'pandas.core.frame.DataFrame'>\n",
      "RangeIndex: 2264 entries, 0 to 2263\n",
      "Data columns (total 16 columns):\n",
      " #   Column               Non-Null Count  Dtype  \n",
      "---  ------               --------------  -----  \n",
      " 0   WHO_Region           2264 non-null   object \n",
      " 1   ISO3                 2264 non-null   object \n",
      " 2   Country              2264 non-null   object \n",
      " 3   Region               2264 non-null   object \n",
      " 4   City                 2264 non-null   object \n",
      " 5   Year                 2264 non-null   int64  \n",
      " 6   PM2_5                421 non-null    float64\n",
      " 7   PM10                 1196 non-null   float64\n",
      " 8   NO2                  2130 non-null   float64\n",
      " 9   PM2_5_p              441 non-null    float64\n",
      " 10  PM10_p               1211 non-null   float64\n",
      " 11  NO2_p                2183 non-null   float64\n",
      " 12  Reference            2264 non-null   object \n",
      " 13  Monitoring_Station   2263 non-null   object \n",
      " 14  Version_of_Database  2264 non-null   int64  \n",
      " 15  Status               0 non-null      float64\n",
      "dtypes: float64(7), int64(2), object(7)\n",
      "memory usage: 283.1+ KB\n"
     ]
    }
   ],
   "source": [
    "#gives the information about the dataset\n",
    "df.info()"
   ]
  },
  {
   "cell_type": "markdown",
   "id": "bc48e9c1",
   "metadata": {},
   "source": [
    "Next, to work on Time Series Analysis, we convert the object (Year) to time series object."
   ]
  },
  {
   "cell_type": "code",
   "execution_count": 7,
   "id": "ec3d84fa",
   "metadata": {},
   "outputs": [
    {
     "name": "stdout",
     "output_type": "stream",
     "text": [
      "<class 'pandas.core.frame.DataFrame'>\n",
      "RangeIndex: 2264 entries, 0 to 2263\n",
      "Data columns (total 16 columns):\n",
      " #   Column               Non-Null Count  Dtype         \n",
      "---  ------               --------------  -----         \n",
      " 0   WHO_Region           2264 non-null   object        \n",
      " 1   ISO3                 2264 non-null   object        \n",
      " 2   Country              2264 non-null   object        \n",
      " 3   Region               2264 non-null   object        \n",
      " 4   City                 2264 non-null   object        \n",
      " 5   Year                 2264 non-null   datetime64[ns]\n",
      " 6   PM2_5                421 non-null    float64       \n",
      " 7   PM10                 1196 non-null   float64       \n",
      " 8   NO2                  2130 non-null   float64       \n",
      " 9   PM2_5_p              441 non-null    float64       \n",
      " 10  PM10_p               1211 non-null   float64       \n",
      " 11  NO2_p                2183 non-null   float64       \n",
      " 12  Reference            2264 non-null   object        \n",
      " 13  Monitoring_Station   2263 non-null   object        \n",
      " 14  Version_of_Database  2264 non-null   int64         \n",
      " 15  Status               0 non-null      float64       \n",
      "dtypes: datetime64[ns](1), float64(7), int64(1), object(7)\n",
      "memory usage: 283.1+ KB\n"
     ]
    }
   ],
   "source": [
    "df['Year']=df['Year'].astype(str).astype('datetime64')\n",
    "df['Year']\n",
    "df.info() #year object converted to year time stamp"
   ]
  },
  {
   "cell_type": "code",
   "execution_count": 8,
   "id": "842ad8c9",
   "metadata": {},
   "outputs": [
    {
     "data": {
      "text/plain": [
       "Index(['WHO_Region', 'ISO3', 'Country ', 'Region', 'City', 'Year', 'PM2_5',\n",
       "       'PM10', 'NO2', 'PM2_5_p', 'PM10_p', 'NO2_p', 'Reference',\n",
       "       'Monitoring_Station', 'Version_of_Database', 'Status'],\n",
       "      dtype='object')"
      ]
     },
     "execution_count": 8,
     "metadata": {},
     "output_type": "execute_result"
    }
   ],
   "source": [
    "#column details\n",
    "df.columns"
   ]
  },
  {
   "cell_type": "code",
   "execution_count": 9,
   "id": "b567920d",
   "metadata": {},
   "outputs": [
    {
     "data": {
      "text/html": [
       "<div>\n",
       "<style scoped>\n",
       "    .dataframe tbody tr th:only-of-type {\n",
       "        vertical-align: middle;\n",
       "    }\n",
       "\n",
       "    .dataframe tbody tr th {\n",
       "        vertical-align: top;\n",
       "    }\n",
       "\n",
       "    .dataframe thead th {\n",
       "        text-align: right;\n",
       "    }\n",
       "</style>\n",
       "<table border=\"1\" class=\"dataframe\">\n",
       "  <thead>\n",
       "    <tr style=\"text-align: right;\">\n",
       "      <th></th>\n",
       "      <th>PM2_5</th>\n",
       "      <th>PM10</th>\n",
       "      <th>NO2</th>\n",
       "      <th>PM2_5_p</th>\n",
       "      <th>PM10_p</th>\n",
       "      <th>NO2_p</th>\n",
       "      <th>Version_of_Database</th>\n",
       "      <th>Status</th>\n",
       "    </tr>\n",
       "  </thead>\n",
       "  <tbody>\n",
       "    <tr>\n",
       "      <th>count</th>\n",
       "      <td>421.000000</td>\n",
       "      <td>1196.000000</td>\n",
       "      <td>2130.000000</td>\n",
       "      <td>441.000000</td>\n",
       "      <td>1211.000000</td>\n",
       "      <td>2183.000000</td>\n",
       "      <td>2264.000000</td>\n",
       "      <td>0.0</td>\n",
       "    </tr>\n",
       "    <tr>\n",
       "      <th>mean</th>\n",
       "      <td>40.444798</td>\n",
       "      <td>98.367433</td>\n",
       "      <td>21.968427</td>\n",
       "      <td>72.796073</td>\n",
       "      <td>86.639266</td>\n",
       "      <td>83.678673</td>\n",
       "      <td>2021.997350</td>\n",
       "      <td>NaN</td>\n",
       "    </tr>\n",
       "    <tr>\n",
       "      <th>std</th>\n",
       "      <td>20.200245</td>\n",
       "      <td>50.346215</td>\n",
       "      <td>12.713677</td>\n",
       "      <td>27.368950</td>\n",
       "      <td>18.213125</td>\n",
       "      <td>21.857936</td>\n",
       "      <td>0.126099</td>\n",
       "      <td>NaN</td>\n",
       "    </tr>\n",
       "    <tr>\n",
       "      <th>min</th>\n",
       "      <td>7.000000</td>\n",
       "      <td>8.500000</td>\n",
       "      <td>2.000000</td>\n",
       "      <td>1.923077</td>\n",
       "      <td>6.730769</td>\n",
       "      <td>1.923077</td>\n",
       "      <td>2016.000000</td>\n",
       "      <td>NaN</td>\n",
       "    </tr>\n",
       "    <tr>\n",
       "      <th>25%</th>\n",
       "      <td>28.000000</td>\n",
       "      <td>63.000000</td>\n",
       "      <td>13.000000</td>\n",
       "      <td>53.846154</td>\n",
       "      <td>81.250000</td>\n",
       "      <td>76.923077</td>\n",
       "      <td>2022.000000</td>\n",
       "      <td>NaN</td>\n",
       "    </tr>\n",
       "    <tr>\n",
       "      <th>50%</th>\n",
       "      <td>36.000000</td>\n",
       "      <td>88.000000</td>\n",
       "      <td>19.000000</td>\n",
       "      <td>82.692308</td>\n",
       "      <td>94.230769</td>\n",
       "      <td>93.269231</td>\n",
       "      <td>2022.000000</td>\n",
       "      <td>NaN</td>\n",
       "    </tr>\n",
       "    <tr>\n",
       "      <th>75%</th>\n",
       "      <td>47.000000</td>\n",
       "      <td>119.000000</td>\n",
       "      <td>28.000000</td>\n",
       "      <td>98.076923</td>\n",
       "      <td>100.000000</td>\n",
       "      <td>100.000000</td>\n",
       "      <td>2022.000000</td>\n",
       "      <td>NaN</td>\n",
       "    </tr>\n",
       "    <tr>\n",
       "      <th>max</th>\n",
       "      <td>123.500000</td>\n",
       "      <td>322.000000</td>\n",
       "      <td>87.500000</td>\n",
       "      <td>100.000000</td>\n",
       "      <td>100.000000</td>\n",
       "      <td>100.000000</td>\n",
       "      <td>2022.000000</td>\n",
       "      <td>NaN</td>\n",
       "    </tr>\n",
       "  </tbody>\n",
       "</table>\n",
       "</div>"
      ],
      "text/plain": [
       "            PM2_5         PM10          NO2     PM2_5_p       PM10_p  \\\n",
       "count  421.000000  1196.000000  2130.000000  441.000000  1211.000000   \n",
       "mean    40.444798    98.367433    21.968427   72.796073    86.639266   \n",
       "std     20.200245    50.346215    12.713677   27.368950    18.213125   \n",
       "min      7.000000     8.500000     2.000000    1.923077     6.730769   \n",
       "25%     28.000000    63.000000    13.000000   53.846154    81.250000   \n",
       "50%     36.000000    88.000000    19.000000   82.692308    94.230769   \n",
       "75%     47.000000   119.000000    28.000000   98.076923   100.000000   \n",
       "max    123.500000   322.000000    87.500000  100.000000   100.000000   \n",
       "\n",
       "             NO2_p  Version_of_Database  Status  \n",
       "count  2183.000000          2264.000000     0.0  \n",
       "mean     83.678673          2021.997350     NaN  \n",
       "std      21.857936             0.126099     NaN  \n",
       "min       1.923077          2016.000000     NaN  \n",
       "25%      76.923077          2022.000000     NaN  \n",
       "50%      93.269231          2022.000000     NaN  \n",
       "75%     100.000000          2022.000000     NaN  \n",
       "max     100.000000          2022.000000     NaN  "
      ]
     },
     "execution_count": 9,
     "metadata": {},
     "output_type": "execute_result"
    }
   ],
   "source": [
    "#data description\n",
    "df.describe()"
   ]
  },
  {
   "cell_type": "markdown",
   "id": "b84ba84c",
   "metadata": {},
   "source": [
    "The above description gives us the summary of the dataset, including the statistical functions of mean, median and mode."
   ]
  },
  {
   "cell_type": "code",
   "execution_count": 10,
   "id": "de4f0ef8",
   "metadata": {},
   "outputs": [
    {
     "data": {
      "text/plain": [
       "(2264, 16)"
      ]
     },
     "execution_count": 10,
     "metadata": {},
     "output_type": "execute_result"
    }
   ],
   "source": [
    "df.shape"
   ]
  },
  {
   "cell_type": "markdown",
   "id": "c927af74",
   "metadata": {},
   "source": [
    "Shape of the dataframe gives us the total number of rows (2264) and columns (16) for the Indian dataset."
   ]
  },
  {
   "cell_type": "code",
   "execution_count": 11,
   "id": "dcc0bf82",
   "metadata": {},
   "outputs": [
    {
     "data": {
      "text/html": [
       "<div>\n",
       "<style scoped>\n",
       "    .dataframe tbody tr th:only-of-type {\n",
       "        vertical-align: middle;\n",
       "    }\n",
       "\n",
       "    .dataframe tbody tr th {\n",
       "        vertical-align: top;\n",
       "    }\n",
       "\n",
       "    .dataframe thead th {\n",
       "        text-align: right;\n",
       "    }\n",
       "</style>\n",
       "<table border=\"1\" class=\"dataframe\">\n",
       "  <thead>\n",
       "    <tr style=\"text-align: right;\">\n",
       "      <th></th>\n",
       "      <th>Country</th>\n",
       "      <th>Region</th>\n",
       "      <th>City</th>\n",
       "      <th>Year</th>\n",
       "      <th>PM2_5</th>\n",
       "      <th>PM10</th>\n",
       "      <th>NO2</th>\n",
       "      <th>PM2_5_p</th>\n",
       "      <th>PM10_p</th>\n",
       "      <th>NO2_p</th>\n",
       "    </tr>\n",
       "  </thead>\n",
       "  <tbody>\n",
       "    <tr>\n",
       "      <th>0</th>\n",
       "      <td>India</td>\n",
       "      <td>Central</td>\n",
       "      <td>Amlai</td>\n",
       "      <td>2016-01-01</td>\n",
       "      <td>26.5</td>\n",
       "      <td>73.0</td>\n",
       "      <td>22.50</td>\n",
       "      <td>41.346154</td>\n",
       "      <td>66.826923</td>\n",
       "      <td>66.826923</td>\n",
       "    </tr>\n",
       "    <tr>\n",
       "      <th>1</th>\n",
       "      <td>India</td>\n",
       "      <td>Central</td>\n",
       "      <td>Amlai</td>\n",
       "      <td>2017-01-01</td>\n",
       "      <td>30.0</td>\n",
       "      <td>82.0</td>\n",
       "      <td>24.50</td>\n",
       "      <td>84.134615</td>\n",
       "      <td>86.057692</td>\n",
       "      <td>86.057692</td>\n",
       "    </tr>\n",
       "    <tr>\n",
       "      <th>2</th>\n",
       "      <td>India</td>\n",
       "      <td>Central</td>\n",
       "      <td>Amlai</td>\n",
       "      <td>2018-01-01</td>\n",
       "      <td>29.0</td>\n",
       "      <td>90.5</td>\n",
       "      <td>20.50</td>\n",
       "      <td>99.038461</td>\n",
       "      <td>98.557692</td>\n",
       "      <td>98.557692</td>\n",
       "    </tr>\n",
       "    <tr>\n",
       "      <th>3</th>\n",
       "      <td>India</td>\n",
       "      <td>Central</td>\n",
       "      <td>Amlai</td>\n",
       "      <td>2019-01-01</td>\n",
       "      <td>NaN</td>\n",
       "      <td>85.0</td>\n",
       "      <td>19.50</td>\n",
       "      <td>NaN</td>\n",
       "      <td>62.019231</td>\n",
       "      <td>62.019231</td>\n",
       "    </tr>\n",
       "    <tr>\n",
       "      <th>4</th>\n",
       "      <td>India</td>\n",
       "      <td>Central</td>\n",
       "      <td>Bhillai</td>\n",
       "      <td>2010-01-01</td>\n",
       "      <td>NaN</td>\n",
       "      <td>NaN</td>\n",
       "      <td>22.33</td>\n",
       "      <td>NaN</td>\n",
       "      <td>NaN</td>\n",
       "      <td>85.897436</td>\n",
       "    </tr>\n",
       "    <tr>\n",
       "      <th>...</th>\n",
       "      <td>...</td>\n",
       "      <td>...</td>\n",
       "      <td>...</td>\n",
       "      <td>...</td>\n",
       "      <td>...</td>\n",
       "      <td>...</td>\n",
       "      <td>...</td>\n",
       "      <td>...</td>\n",
       "      <td>...</td>\n",
       "      <td>...</td>\n",
       "    </tr>\n",
       "    <tr>\n",
       "      <th>2259</th>\n",
       "      <td>India</td>\n",
       "      <td>West</td>\n",
       "      <td>Vasco</td>\n",
       "      <td>2014-01-01</td>\n",
       "      <td>NaN</td>\n",
       "      <td>NaN</td>\n",
       "      <td>8.00</td>\n",
       "      <td>NaN</td>\n",
       "      <td>NaN</td>\n",
       "      <td>40.384615</td>\n",
       "    </tr>\n",
       "    <tr>\n",
       "      <th>2260</th>\n",
       "      <td>India</td>\n",
       "      <td>West</td>\n",
       "      <td>Vasco</td>\n",
       "      <td>2016-01-01</td>\n",
       "      <td>55.5</td>\n",
       "      <td>102.5</td>\n",
       "      <td>9.50</td>\n",
       "      <td>38.942308</td>\n",
       "      <td>82.692308</td>\n",
       "      <td>82.692308</td>\n",
       "    </tr>\n",
       "    <tr>\n",
       "      <th>2261</th>\n",
       "      <td>India</td>\n",
       "      <td>West</td>\n",
       "      <td>Vasco</td>\n",
       "      <td>2017-01-01</td>\n",
       "      <td>NaN</td>\n",
       "      <td>89.0</td>\n",
       "      <td>11.00</td>\n",
       "      <td>NaN</td>\n",
       "      <td>86.538461</td>\n",
       "      <td>85.576923</td>\n",
       "    </tr>\n",
       "    <tr>\n",
       "      <th>2262</th>\n",
       "      <td>India</td>\n",
       "      <td>West</td>\n",
       "      <td>Vasco</td>\n",
       "      <td>2018-01-01</td>\n",
       "      <td>NaN</td>\n",
       "      <td>83.0</td>\n",
       "      <td>11.00</td>\n",
       "      <td>7.692308</td>\n",
       "      <td>81.730769</td>\n",
       "      <td>81.730769</td>\n",
       "    </tr>\n",
       "    <tr>\n",
       "      <th>2263</th>\n",
       "      <td>India</td>\n",
       "      <td>West</td>\n",
       "      <td>Vasco</td>\n",
       "      <td>2019-01-01</td>\n",
       "      <td>41.0</td>\n",
       "      <td>81.0</td>\n",
       "      <td>13.00</td>\n",
       "      <td>50.961539</td>\n",
       "      <td>77.884615</td>\n",
       "      <td>84.615385</td>\n",
       "    </tr>\n",
       "  </tbody>\n",
       "</table>\n",
       "<p>2264 rows × 10 columns</p>\n",
       "</div>"
      ],
      "text/plain": [
       "     Country    Region     City       Year  PM2_5   PM10    NO2    PM2_5_p  \\\n",
       "0       India  Central    Amlai 2016-01-01   26.5   73.0  22.50  41.346154   \n",
       "1       India  Central    Amlai 2017-01-01   30.0   82.0  24.50  84.134615   \n",
       "2       India  Central    Amlai 2018-01-01   29.0   90.5  20.50  99.038461   \n",
       "3       India  Central    Amlai 2019-01-01    NaN   85.0  19.50        NaN   \n",
       "4       India  Central  Bhillai 2010-01-01    NaN    NaN  22.33        NaN   \n",
       "...       ...      ...      ...        ...    ...    ...    ...        ...   \n",
       "2259    India     West    Vasco 2014-01-01    NaN    NaN   8.00        NaN   \n",
       "2260    India     West    Vasco 2016-01-01   55.5  102.5   9.50  38.942308   \n",
       "2261    India     West    Vasco 2017-01-01    NaN   89.0  11.00        NaN   \n",
       "2262    India     West    Vasco 2018-01-01    NaN   83.0  11.00   7.692308   \n",
       "2263    India     West    Vasco 2019-01-01   41.0   81.0  13.00  50.961539   \n",
       "\n",
       "         PM10_p      NO2_p  \n",
       "0     66.826923  66.826923  \n",
       "1     86.057692  86.057692  \n",
       "2     98.557692  98.557692  \n",
       "3     62.019231  62.019231  \n",
       "4           NaN  85.897436  \n",
       "...         ...        ...  \n",
       "2259        NaN  40.384615  \n",
       "2260  82.692308  82.692308  \n",
       "2261  86.538461  85.576923  \n",
       "2262  81.730769  81.730769  \n",
       "2263  77.884615  84.615385  \n",
       "\n",
       "[2264 rows x 10 columns]"
      ]
     },
     "execution_count": 11,
     "metadata": {},
     "output_type": "execute_result"
    }
   ],
   "source": [
    "#Removing the irrelevant columns\n",
    "nr=['WHO_Region','ISO3','Reference','Monitoring_Station','Version_of_Database','Status']  \n",
    "df1=df.drop(nr,axis=1)\n",
    "df1"
   ]
  },
  {
   "cell_type": "code",
   "execution_count": 12,
   "id": "88c3d5c1",
   "metadata": {},
   "outputs": [
    {
     "data": {
      "text/plain": [
       "Country        0\n",
       "Region         0\n",
       "City           0\n",
       "Year           0\n",
       "PM2_5       1843\n",
       "PM10        1068\n",
       "NO2          134\n",
       "PM2_5_p     1823\n",
       "PM10_p      1053\n",
       "NO2_p         81\n",
       "dtype: int64"
      ]
     },
     "execution_count": 12,
     "metadata": {},
     "output_type": "execute_result"
    }
   ],
   "source": [
    "#checking for null values\n",
    "nv=df1.isnull().sum()\n",
    "nv"
   ]
  },
  {
   "cell_type": "markdown",
   "id": "9b753ff9",
   "metadata": {},
   "source": [
    "We see there are multiple null values in the dataset. So, to fill the null values, we check the box plot for every factor and fill the null values with the required imputation technique."
   ]
  },
  {
   "cell_type": "code",
   "execution_count": 13,
   "id": "c82f5dac",
   "metadata": {},
   "outputs": [
    {
     "name": "stderr",
     "output_type": "stream",
     "text": [
      "C:\\Users\\hp\\anaconda3\\lib\\site-packages\\seaborn\\_decorators.py:36: FutureWarning: Pass the following variable as a keyword arg: x. From version 0.12, the only valid positional argument will be `data`, and passing other arguments without an explicit keyword will result in an error or misinterpretation.\n",
      "  warnings.warn(\n"
     ]
    },
    {
     "data": {
      "text/plain": [
       "<AxesSubplot:xlabel='PM2_5'>"
      ]
     },
     "execution_count": 13,
     "metadata": {},
     "output_type": "execute_result"
    },
    {
     "data": {
      "image/png": "[encoded data removed]",
      "text/plain": [
       "<Figure size 432x288 with 1 Axes>"
      ]
     },
     "metadata": {
      "needs_background": "light"
     },
     "output_type": "display_data"
    }
   ],
   "source": [
    "sns.boxplot(df1.PM2_5)"
   ]
  },
  {
   "cell_type": "code",
   "execution_count": 14,
   "id": "020c367f",
   "metadata": {},
   "outputs": [
    {
     "name": "stderr",
     "output_type": "stream",
     "text": [
      "C:\\Users\\hp\\anaconda3\\lib\\site-packages\\seaborn\\_decorators.py:36: FutureWarning: Pass the following variable as a keyword arg: x. From version 0.12, the only valid positional argument will be `data`, and passing other arguments without an explicit keyword will result in an error or misinterpretation.\n",
      "  warnings.warn(\n"
     ]
    },
    {
     "data": {
      "text/plain": [
       "<AxesSubplot:xlabel='PM10'>"
      ]
     },
     "execution_count": 14,
     "metadata": {},
     "output_type": "execute_result"
    },
    {
     "data": {
      "image/png": "[encoded data removed]",
      "text/plain": [
       "<Figure size 432x288 with 1 Axes>"
      ]
     },
     "metadata": {
      "needs_background": "light"
     },
     "output_type": "display_data"
    }
   ],
   "source": [
    "sns.boxplot(df1.PM10)"
   ]
  },
  {
   "cell_type": "code",
   "execution_count": 15,
   "id": "d2554232",
   "metadata": {},
   "outputs": [
    {
     "name": "stderr",
     "output_type": "stream",
     "text": [
      "C:\\Users\\hp\\anaconda3\\lib\\site-packages\\seaborn\\_decorators.py:36: FutureWarning: Pass the following variable as a keyword arg: x. From version 0.12, the only valid positional argument will be `data`, and passing other arguments without an explicit keyword will result in an error or misinterpretation.\n",
      "  warnings.warn(\n"
     ]
    },
    {
     "data": {
      "text/plain": [
       "<AxesSubplot:xlabel='NO2'>"
      ]
     },
     "execution_count": 15,
     "metadata": {},
     "output_type": "execute_result"
    },
    {
     "data": {
      "image/png": "[encoded data removed]",
      "text/plain": [
       "<Figure size 432x288 with 1 Axes>"
      ]
     },
     "metadata": {
      "needs_background": "light"
     },
     "output_type": "display_data"
    }
   ],
   "source": [
    "sns.boxplot(df1.NO2)"
   ]
  },
  {
   "cell_type": "code",
   "execution_count": 16,
   "id": "8ef9b682",
   "metadata": {},
   "outputs": [
    {
     "name": "stderr",
     "output_type": "stream",
     "text": [
      "C:\\Users\\hp\\anaconda3\\lib\\site-packages\\seaborn\\_decorators.py:36: FutureWarning: Pass the following variable as a keyword arg: x. From version 0.12, the only valid positional argument will be `data`, and passing other arguments without an explicit keyword will result in an error or misinterpretation.\n",
      "  warnings.warn(\n"
     ]
    },
    {
     "data": {
      "text/plain": [
       "<AxesSubplot:xlabel='PM2_5_p'>"
      ]
     },
     "execution_count": 16,
     "metadata": {},
     "output_type": "execute_result"
    },
    {
     "data": {
      "image/png": "[encoded data removed]",
      "text/plain": [
       "<Figure size 432x288 with 1 Axes>"
      ]
     },
     "metadata": {
      "needs_background": "light"
     },
     "output_type": "display_data"
    }
   ],
   "source": [
    "sns.boxplot(df1.PM2_5_p)"
   ]
  },
  {
   "cell_type": "code",
   "execution_count": 17,
   "id": "c5f52d14",
   "metadata": {},
   "outputs": [
    {
     "name": "stderr",
     "output_type": "stream",
     "text": [
      "C:\\Users\\hp\\anaconda3\\lib\\site-packages\\seaborn\\_decorators.py:36: FutureWarning: Pass the following variable as a keyword arg: x. From version 0.12, the only valid positional argument will be `data`, and passing other arguments without an explicit keyword will result in an error or misinterpretation.\n",
      "  warnings.warn(\n"
     ]
    },
    {
     "data": {
      "text/plain": [
       "<AxesSubplot:xlabel='PM10_p'>"
      ]
     },
     "execution_count": 17,
     "metadata": {},
     "output_type": "execute_result"
    },
    {
     "data": {
      "image/png": "[encoded data removed]",
      "text/plain": [
       "<Figure size 432x288 with 1 Axes>"
      ]
     },
     "metadata": {
      "needs_background": "light"
     },
     "output_type": "display_data"
    }
   ],
   "source": [
    "sns.boxplot(df1.PM10_p)"
   ]
  },
  {
   "cell_type": "code",
   "execution_count": 18,
   "id": "1a344f41",
   "metadata": {},
   "outputs": [
    {
     "name": "stderr",
     "output_type": "stream",
     "text": [
      "C:\\Users\\hp\\anaconda3\\lib\\site-packages\\seaborn\\_decorators.py:36: FutureWarning: Pass the following variable as a keyword arg: x. From version 0.12, the only valid positional argument will be `data`, and passing other arguments without an explicit keyword will result in an error or misinterpretation.\n",
      "  warnings.warn(\n"
     ]
    },
    {
     "data": {
      "text/plain": [
       "<AxesSubplot:xlabel='NO2_p'>"
      ]
     },
     "execution_count": 18,
     "metadata": {},
     "output_type": "execute_result"
    },
    {
     "data": {
      "image/png": "[encoded data removed]",
      "text/plain": [
       "<Figure size 432x288 with 1 Axes>"
      ]
     },
     "metadata": {
      "needs_background": "light"
     },
     "output_type": "display_data"
    }
   ],
   "source": [
    "sns.boxplot(df1.NO2_p)"
   ]
  },
  {
   "cell_type": "markdown",
   "id": "705917a2",
   "metadata": {},
   "source": [
    "We use the technique of \"median imputation\" to fill the null values. In this, the missing values are replaced with the median value of the entire feature column. When the data is skewed, it is good to consider using the median value for replacing the missing values."
   ]
  },
  {
   "cell_type": "code",
   "execution_count": 19,
   "id": "f5f54a75",
   "metadata": {},
   "outputs": [
    {
     "name": "stderr",
     "output_type": "stream",
     "text": [
      "C:\\Users\\hp\\AppData\\Local\\Temp/ipykernel_10984/2179746490.py:1: FutureWarning: DataFrame.mean and DataFrame.median with numeric_only=None will include datetime64 and datetime64tz columns in a future version.\n",
      "  d1=df1.fillna(df1.median()) #filling the null values using median\n",
      "C:\\Users\\hp\\AppData\\Local\\Temp/ipykernel_10984/2179746490.py:1: FutureWarning: Dropping of nuisance columns in DataFrame reductions (with 'numeric_only=None') is deprecated; in a future version this will raise TypeError.  Select only valid columns before calling the reduction.\n",
      "  d1=df1.fillna(df1.median()) #filling the null values using median\n"
     ]
    },
    {
     "data": {
      "text/html": [
       "<div>\n",
       "<style scoped>\n",
       "    .dataframe tbody tr th:only-of-type {\n",
       "        vertical-align: middle;\n",
       "    }\n",
       "\n",
       "    .dataframe tbody tr th {\n",
       "        vertical-align: top;\n",
       "    }\n",
       "\n",
       "    .dataframe thead th {\n",
       "        text-align: right;\n",
       "    }\n",
       "</style>\n",
       "<table border=\"1\" class=\"dataframe\">\n",
       "  <thead>\n",
       "    <tr style=\"text-align: right;\">\n",
       "      <th></th>\n",
       "      <th>Country</th>\n",
       "      <th>Region</th>\n",
       "      <th>City</th>\n",
       "      <th>Year</th>\n",
       "      <th>PM2_5</th>\n",
       "      <th>PM10</th>\n",
       "      <th>NO2</th>\n",
       "      <th>PM2_5_p</th>\n",
       "      <th>PM10_p</th>\n",
       "      <th>NO2_p</th>\n",
       "    </tr>\n",
       "  </thead>\n",
       "  <tbody>\n",
       "    <tr>\n",
       "      <th>0</th>\n",
       "      <td>India</td>\n",
       "      <td>Central</td>\n",
       "      <td>Amlai</td>\n",
       "      <td>2016-01-01</td>\n",
       "      <td>26.5</td>\n",
       "      <td>73.0</td>\n",
       "      <td>22.50</td>\n",
       "      <td>41.346154</td>\n",
       "      <td>66.826923</td>\n",
       "      <td>66.826923</td>\n",
       "    </tr>\n",
       "    <tr>\n",
       "      <th>1</th>\n",
       "      <td>India</td>\n",
       "      <td>Central</td>\n",
       "      <td>Amlai</td>\n",
       "      <td>2017-01-01</td>\n",
       "      <td>30.0</td>\n",
       "      <td>82.0</td>\n",
       "      <td>24.50</td>\n",
       "      <td>84.134615</td>\n",
       "      <td>86.057692</td>\n",
       "      <td>86.057692</td>\n",
       "    </tr>\n",
       "    <tr>\n",
       "      <th>2</th>\n",
       "      <td>India</td>\n",
       "      <td>Central</td>\n",
       "      <td>Amlai</td>\n",
       "      <td>2018-01-01</td>\n",
       "      <td>29.0</td>\n",
       "      <td>90.5</td>\n",
       "      <td>20.50</td>\n",
       "      <td>99.038461</td>\n",
       "      <td>98.557692</td>\n",
       "      <td>98.557692</td>\n",
       "    </tr>\n",
       "    <tr>\n",
       "      <th>3</th>\n",
       "      <td>India</td>\n",
       "      <td>Central</td>\n",
       "      <td>Amlai</td>\n",
       "      <td>2019-01-01</td>\n",
       "      <td>36.0</td>\n",
       "      <td>85.0</td>\n",
       "      <td>19.50</td>\n",
       "      <td>82.692308</td>\n",
       "      <td>62.019231</td>\n",
       "      <td>62.019231</td>\n",
       "    </tr>\n",
       "    <tr>\n",
       "      <th>4</th>\n",
       "      <td>India</td>\n",
       "      <td>Central</td>\n",
       "      <td>Bhillai</td>\n",
       "      <td>2010-01-01</td>\n",
       "      <td>36.0</td>\n",
       "      <td>88.0</td>\n",
       "      <td>22.33</td>\n",
       "      <td>82.692308</td>\n",
       "      <td>94.230769</td>\n",
       "      <td>85.897436</td>\n",
       "    </tr>\n",
       "    <tr>\n",
       "      <th>...</th>\n",
       "      <td>...</td>\n",
       "      <td>...</td>\n",
       "      <td>...</td>\n",
       "      <td>...</td>\n",
       "      <td>...</td>\n",
       "      <td>...</td>\n",
       "      <td>...</td>\n",
       "      <td>...</td>\n",
       "      <td>...</td>\n",
       "      <td>...</td>\n",
       "    </tr>\n",
       "    <tr>\n",
       "      <th>2259</th>\n",
       "      <td>India</td>\n",
       "      <td>West</td>\n",
       "      <td>Vasco</td>\n",
       "      <td>2014-01-01</td>\n",
       "      <td>36.0</td>\n",
       "      <td>88.0</td>\n",
       "      <td>8.00</td>\n",
       "      <td>82.692308</td>\n",
       "      <td>94.230769</td>\n",
       "      <td>40.384615</td>\n",
       "    </tr>\n",
       "    <tr>\n",
       "      <th>2260</th>\n",
       "      <td>India</td>\n",
       "      <td>West</td>\n",
       "      <td>Vasco</td>\n",
       "      <td>2016-01-01</td>\n",
       "      <td>55.5</td>\n",
       "      <td>102.5</td>\n",
       "      <td>9.50</td>\n",
       "      <td>38.942308</td>\n",
       "      <td>82.692308</td>\n",
       "      <td>82.692308</td>\n",
       "    </tr>\n",
       "    <tr>\n",
       "      <th>2261</th>\n",
       "      <td>India</td>\n",
       "      <td>West</td>\n",
       "      <td>Vasco</td>\n",
       "      <td>2017-01-01</td>\n",
       "      <td>36.0</td>\n",
       "      <td>89.0</td>\n",
       "      <td>11.00</td>\n",
       "      <td>82.692308</td>\n",
       "      <td>86.538461</td>\n",
       "      <td>85.576923</td>\n",
       "    </tr>\n",
       "    <tr>\n",
       "      <th>2262</th>\n",
       "      <td>India</td>\n",
       "      <td>West</td>\n",
       "      <td>Vasco</td>\n",
       "      <td>2018-01-01</td>\n",
       "      <td>36.0</td>\n",
       "      <td>83.0</td>\n",
       "      <td>11.00</td>\n",
       "      <td>7.692308</td>\n",
       "      <td>81.730769</td>\n",
       "      <td>81.730769</td>\n",
       "    </tr>\n",
       "    <tr>\n",
       "      <th>2263</th>\n",
       "      <td>India</td>\n",
       "      <td>West</td>\n",
       "      <td>Vasco</td>\n",
       "      <td>2019-01-01</td>\n",
       "      <td>41.0</td>\n",
       "      <td>81.0</td>\n",
       "      <td>13.00</td>\n",
       "      <td>50.961539</td>\n",
       "      <td>77.884615</td>\n",
       "      <td>84.615385</td>\n",
       "    </tr>\n",
       "  </tbody>\n",
       "</table>\n",
       "<p>2264 rows × 10 columns</p>\n",
       "</div>"
      ],
      "text/plain": [
       "     Country    Region     City       Year  PM2_5   PM10    NO2    PM2_5_p  \\\n",
       "0       India  Central    Amlai 2016-01-01   26.5   73.0  22.50  41.346154   \n",
       "1       India  Central    Amlai 2017-01-01   30.0   82.0  24.50  84.134615   \n",
       "2       India  Central    Amlai 2018-01-01   29.0   90.5  20.50  99.038461   \n",
       "3       India  Central    Amlai 2019-01-01   36.0   85.0  19.50  82.692308   \n",
       "4       India  Central  Bhillai 2010-01-01   36.0   88.0  22.33  82.692308   \n",
       "...       ...      ...      ...        ...    ...    ...    ...        ...   \n",
       "2259    India     West    Vasco 2014-01-01   36.0   88.0   8.00  82.692308   \n",
       "2260    India     West    Vasco 2016-01-01   55.5  102.5   9.50  38.942308   \n",
       "2261    India     West    Vasco 2017-01-01   36.0   89.0  11.00  82.692308   \n",
       "2262    India     West    Vasco 2018-01-01   36.0   83.0  11.00   7.692308   \n",
       "2263    India     West    Vasco 2019-01-01   41.0   81.0  13.00  50.961539   \n",
       "\n",
       "         PM10_p      NO2_p  \n",
       "0     66.826923  66.826923  \n",
       "1     86.057692  86.057692  \n",
       "2     98.557692  98.557692  \n",
       "3     62.019231  62.019231  \n",
       "4     94.230769  85.897436  \n",
       "...         ...        ...  \n",
       "2259  94.230769  40.384615  \n",
       "2260  82.692308  82.692308  \n",
       "2261  86.538461  85.576923  \n",
       "2262  81.730769  81.730769  \n",
       "2263  77.884615  84.615385  \n",
       "\n",
       "[2264 rows x 10 columns]"
      ]
     },
     "execution_count": 19,
     "metadata": {},
     "output_type": "execute_result"
    }
   ],
   "source": [
    "d1=df1.fillna(df1.median()) #filling the null values using median\n",
    "d1"
   ]
  },
  {
   "cell_type": "code",
   "execution_count": 20,
   "id": "55a42b80",
   "metadata": {},
   "outputs": [
    {
     "data": {
      "text/plain": [
       "Country     0\n",
       "Region      0\n",
       "City        0\n",
       "Year        0\n",
       "PM2_5       0\n",
       "PM10        0\n",
       "NO2         0\n",
       "PM2_5_p     0\n",
       "PM10_p      0\n",
       "NO2_p       0\n",
       "dtype: int64"
      ]
     },
     "execution_count": 20,
     "metadata": {},
     "output_type": "execute_result"
    }
   ],
   "source": [
    "d=d1.isnull().sum()\n",
    "d"
   ]
  },
  {
   "cell_type": "markdown",
   "id": "fda1aa13",
   "metadata": {},
   "source": [
    "On checking the data, we see there are no null values in anymore. Hence, the data is pre-processed and cleaned before using it for the further analysis."
   ]
  },
  {
   "cell_type": "markdown",
   "id": "2fc9ec18",
   "metadata": {},
   "source": [
    "# EXPLORATORY DATA ANALYSIS"
   ]
  },
  {
   "cell_type": "markdown",
   "id": "1e2e04bb",
   "metadata": {},
   "source": [
    "We plot the required time series visualization graphs to help us with the interpretation of the data."
   ]
  },
  {
   "cell_type": "code",
   "execution_count": 21,
   "id": "2c5fd0d0",
   "metadata": {},
   "outputs": [
    {
     "data": {
      "text/plain": [
       "array([[<AxesSubplot:title={'center':'Year'}>,\n",
       "        <AxesSubplot:title={'center':'PM2_5'}>,\n",
       "        <AxesSubplot:title={'center':'PM10'}>],\n",
       "       [<AxesSubplot:title={'center':'NO2'}>,\n",
       "        <AxesSubplot:title={'center':'PM2_5_p'}>,\n",
       "        <AxesSubplot:title={'center':'PM10_p'}>],\n",
       "       [<AxesSubplot:title={'center':'NO2_p'}>, <AxesSubplot:>,\n",
       "        <AxesSubplot:>]], dtype=object)"
      ]
     },
     "execution_count": 21,
     "metadata": {},
     "output_type": "execute_result"
    },
    {
     "data": {
      "image/png": "[encoded data removed]",
      "text/plain": [
       "<Figure size 864x720 with 9 Axes>"
      ]
     },
     "metadata": {
      "needs_background": "light"
     },
     "output_type": "display_data"
    }
   ],
   "source": [
    "#histogram-\n",
    "df1.hist(figsize=(12,10))"
   ]
  },
  {
   "cell_type": "markdown",
   "id": "e74ce02c",
   "metadata": {},
   "source": [
    "The above plot of Histogram shows that the data values are continuous variables of time series. We see a pattern of skewness in the factors associated with the air pollution, depecting non-normal distribution."
   ]
  },
  {
   "cell_type": "code",
   "execution_count": 22,
   "id": "8737383b",
   "metadata": {},
   "outputs": [
    {
     "data": {
      "text/plain": [
       "array([<AxesSubplot:>, <AxesSubplot:>, <AxesSubplot:>, <AxesSubplot:>,\n",
       "       <AxesSubplot:>, <AxesSubplot:>, <AxesSubplot:>], dtype=object)"
      ]
     },
     "execution_count": 22,
     "metadata": {},
     "output_type": "execute_result"
    },
    {
     "data": {
      "image/png": "[encoded data removed]",
      "text/plain": [
       "<Figure size 720x864 with 7 Axes>"
      ]
     },
     "metadata": {
      "needs_background": "light"
     },
     "output_type": "display_data"
    }
   ],
   "source": [
    "#subplots of data\n",
    "df1.plot(subplots=True, figsize=(10, 12))"
   ]
  },
  {
   "cell_type": "markdown",
   "id": "9abc952a",
   "metadata": {},
   "source": [
    "Now to accelerate our analysis, we select the cities (region-wise) and specifically focus on them. The main parameters or factors in study from now on will be PM2.5, PM10 and NO2.\n",
    "\n",
    "The four cities selected are Agra (Uttar Pradesh- North), Bangalore (Karnataka- South), Balasore (Odisha- East) and Surat (Gujarat- West)"
   ]
  },
  {
   "cell_type": "markdown",
   "id": "dafcab6d",
   "metadata": {},
   "source": [
    "The best plot to describe a time series data is Line Graph. So, to study the pattern of the cities, we plot line graphs for each using the above mentioned factors. Along with this, to study the correlation between the factors, we plot a heatmap (similar to correlation matrix)."
   ]
  },
  {
   "cell_type": "code",
   "execution_count": 23,
   "id": "1f6bdad7",
   "metadata": {},
   "outputs": [
    {
     "name": "stdout",
     "output_type": "stream",
     "text": [
      "     Country   Region  City       Year   PM2_5    PM10    NO2    PM2_5_p  \\\n",
      "1160    India  North   Agra 2010-01-01   36.00   88.00  26.33  82.692308   \n",
      "1161    India  North   Agra 2011-01-01   36.00   88.00  19.60  82.692308   \n",
      "1162    India  North   Agra 2012-01-01   36.00   88.00  23.00  82.692308   \n",
      "1163    India  North   Agra 2013-01-01   36.00   88.00  22.50  82.692308   \n",
      "1164    India  North   Agra 2014-01-01   36.00   88.00  18.83  82.692308   \n",
      "1165    India  North   Agra 2016-01-01   36.00  198.00  22.50  82.692308   \n",
      "1166    India  North   Agra 2017-01-01  123.50  184.50  19.17  72.836539   \n",
      "1167    India  North   Agra 2018-01-01  105.75  209.00  21.67  80.769231   \n",
      "1168    India  North   Agra 2019-01-01  109.67  185.83  24.50  62.500000   \n",
      "\n",
      "         PM10_p       NO2_p  \n",
      "1160  94.230769  100.000000  \n",
      "1161  94.230769   95.384615  \n",
      "1162  94.230769   88.301282  \n",
      "1163  94.230769   83.653846  \n",
      "1164  94.230769   91.346154  \n",
      "1165  89.262821   88.301282  \n",
      "1166  84.775641   84.935897  \n",
      "1167  96.474359   96.474359  \n",
      "1168  95.352564   96.153846  \n"
     ]
    },
    {
     "data": {
      "text/html": [
       "<div>\n",
       "<style scoped>\n",
       "    .dataframe tbody tr th:only-of-type {\n",
       "        vertical-align: middle;\n",
       "    }\n",
       "\n",
       "    .dataframe tbody tr th {\n",
       "        vertical-align: top;\n",
       "    }\n",
       "\n",
       "    .dataframe thead th {\n",
       "        text-align: right;\n",
       "    }\n",
       "</style>\n",
       "<table border=\"1\" class=\"dataframe\">\n",
       "  <thead>\n",
       "    <tr style=\"text-align: right;\">\n",
       "      <th></th>\n",
       "      <th>PM2_5</th>\n",
       "      <th>PM10</th>\n",
       "      <th>NO2</th>\n",
       "    </tr>\n",
       "    <tr>\n",
       "      <th>Year</th>\n",
       "      <th></th>\n",
       "      <th></th>\n",
       "      <th></th>\n",
       "    </tr>\n",
       "  </thead>\n",
       "  <tbody>\n",
       "    <tr>\n",
       "      <th>2010-01-01</th>\n",
       "      <td>36.00</td>\n",
       "      <td>88.00</td>\n",
       "      <td>26.33</td>\n",
       "    </tr>\n",
       "    <tr>\n",
       "      <th>2011-01-01</th>\n",
       "      <td>36.00</td>\n",
       "      <td>88.00</td>\n",
       "      <td>19.60</td>\n",
       "    </tr>\n",
       "    <tr>\n",
       "      <th>2012-01-01</th>\n",
       "      <td>36.00</td>\n",
       "      <td>88.00</td>\n",
       "      <td>23.00</td>\n",
       "    </tr>\n",
       "    <tr>\n",
       "      <th>2013-01-01</th>\n",
       "      <td>36.00</td>\n",
       "      <td>88.00</td>\n",
       "      <td>22.50</td>\n",
       "    </tr>\n",
       "    <tr>\n",
       "      <th>2014-01-01</th>\n",
       "      <td>36.00</td>\n",
       "      <td>88.00</td>\n",
       "      <td>18.83</td>\n",
       "    </tr>\n",
       "    <tr>\n",
       "      <th>2016-01-01</th>\n",
       "      <td>36.00</td>\n",
       "      <td>198.00</td>\n",
       "      <td>22.50</td>\n",
       "    </tr>\n",
       "    <tr>\n",
       "      <th>2017-01-01</th>\n",
       "      <td>123.50</td>\n",
       "      <td>184.50</td>\n",
       "      <td>19.17</td>\n",
       "    </tr>\n",
       "    <tr>\n",
       "      <th>2018-01-01</th>\n",
       "      <td>105.75</td>\n",
       "      <td>209.00</td>\n",
       "      <td>21.67</td>\n",
       "    </tr>\n",
       "    <tr>\n",
       "      <th>2019-01-01</th>\n",
       "      <td>109.67</td>\n",
       "      <td>185.83</td>\n",
       "      <td>24.50</td>\n",
       "    </tr>\n",
       "  </tbody>\n",
       "</table>\n",
       "</div>"
      ],
      "text/plain": [
       "             PM2_5    PM10    NO2\n",
       "Year                             \n",
       "2010-01-01   36.00   88.00  26.33\n",
       "2011-01-01   36.00   88.00  19.60\n",
       "2012-01-01   36.00   88.00  23.00\n",
       "2013-01-01   36.00   88.00  22.50\n",
       "2014-01-01   36.00   88.00  18.83\n",
       "2016-01-01   36.00  198.00  22.50\n",
       "2017-01-01  123.50  184.50  19.17\n",
       "2018-01-01  105.75  209.00  21.67\n",
       "2019-01-01  109.67  185.83  24.50"
      ]
     },
     "execution_count": 23,
     "metadata": {},
     "output_type": "execute_result"
    }
   ],
   "source": [
    "#extracting the data for Agra\n",
    "group=d1.groupby(df.City)\n",
    "c1=group.get_group(\"Agra\")\n",
    "print(c1)\n",
    "a=c1.iloc[:,3:7]\n",
    "a.set_index(\"Year\",inplace=True)\n",
    "a"
   ]
  },
  {
   "cell_type": "code",
   "execution_count": 24,
   "id": "34b04535",
   "metadata": {},
   "outputs": [
    {
     "data": {
      "image/png": "[encoded data removed]",
      "text/plain": [
       "<Figure size 720x360 with 1 Axes>"
      ]
     },
     "metadata": {
      "needs_background": "light"
     },
     "output_type": "display_data"
    }
   ],
   "source": [
    "#line-graph of Agra\n",
    "\n",
    "plt.figure(figsize=(10,5))\n",
    "plt.xlabel(\"Values\",color='red',fontsize=10)\n",
    "plt.ylabel(\"Years\",color='red',fontsize=10)\n",
    "plt.title(\"Line graph of Agra\",color='green',fontsize=15)\n",
    "lines=plt.plot(c1[['PM2_5','PM10','NO2']])\n",
    "plt.legend(lines[:3], ['PM2_5', 'PM10','NO2']);"
   ]
  },
  {
   "cell_type": "markdown",
   "id": "24b95f5f",
   "metadata": {},
   "source": [
    "The line graph of Agra gives an usual trend or non-stationarity in all the associated factors."
   ]
  },
  {
   "cell_type": "code",
   "execution_count": 25,
   "id": "dbf80edc",
   "metadata": {},
   "outputs": [
    {
     "data": {
      "text/plain": [
       "<AxesSubplot:>"
      ]
     },
     "execution_count": 25,
     "metadata": {},
     "output_type": "execute_result"
    },
    {
     "data": {
      "image/png": "[encoded data removed]",
      "text/plain": [
       "<Figure size 432x288 with 2 Axes>"
      ]
     },
     "metadata": {
      "needs_background": "light"
     },
     "output_type": "display_data"
    }
   ],
   "source": [
    "#heatmap\n",
    "corrmat1=a.corr()\n",
    "sns.heatmap(corrmat1,annot=True)"
   ]
  },
  {
   "cell_type": "markdown",
   "id": "da8c9e19",
   "metadata": {},
   "source": [
    "The heatmap shows a strong-positive relation between the variables PM2.5 and PM10."
   ]
  },
  {
   "cell_type": "code",
   "execution_count": 26,
   "id": "1b4bf8ed",
   "metadata": {},
   "outputs": [
    {
     "name": "stdout",
     "output_type": "stream",
     "text": [
      "     Country  Region       City       Year  PM2_5    PM10    NO2    PM2_5_p  \\\n",
      "1347    India  South  Bangalore 2010-01-01  36.00   88.00  30.67  82.692308   \n",
      "1348    India  South  Bangalore 2011-01-01  36.00   88.00  29.29  82.692308   \n",
      "1349    India  South  Bangalore 2012-01-01  36.00   88.00  28.57  82.692308   \n",
      "1350    India  South  Bangalore 2013-01-01  36.00   88.00  25.88  82.692308   \n",
      "1351    India  South  Bangalore 2014-01-01  36.00   88.00  28.20  82.692308   \n",
      "1352    India  South  Bangalore 2016-01-01  51.20  103.00  31.25  82.500000   \n",
      "1353    India  South  Bangalore 2017-01-01  46.14   91.56  30.67  63.736264   \n",
      "1354    India  South  Bangalore 2018-01-01  47.40   89.75  29.62  64.230769   \n",
      "1355    India  South  Bangalore 2019-01-01  32.38   78.62  25.75  56.129808   \n",
      "\n",
      "         PM10_p      NO2_p  \n",
      "1347  94.230769  67.521367  \n",
      "1348  94.230769  69.368132  \n",
      "1349  94.230769  90.934066  \n",
      "1350  94.230769  92.427885  \n",
      "1351  94.230769  93.846154  \n",
      "1352  87.379808  87.379808  \n",
      "1353  82.264957  83.119658  \n",
      "1354  91.947115  91.947115  \n",
      "1355  83.413461  87.500000  \n"
     ]
    },
    {
     "data": {
      "text/html": [
       "<div>\n",
       "<style scoped>\n",
       "    .dataframe tbody tr th:only-of-type {\n",
       "        vertical-align: middle;\n",
       "    }\n",
       "\n",
       "    .dataframe tbody tr th {\n",
       "        vertical-align: top;\n",
       "    }\n",
       "\n",
       "    .dataframe thead th {\n",
       "        text-align: right;\n",
       "    }\n",
       "</style>\n",
       "<table border=\"1\" class=\"dataframe\">\n",
       "  <thead>\n",
       "    <tr style=\"text-align: right;\">\n",
       "      <th></th>\n",
       "      <th>PM2_5</th>\n",
       "      <th>PM10</th>\n",
       "      <th>NO2</th>\n",
       "    </tr>\n",
       "    <tr>\n",
       "      <th>Year</th>\n",
       "      <th></th>\n",
       "      <th></th>\n",
       "      <th></th>\n",
       "    </tr>\n",
       "  </thead>\n",
       "  <tbody>\n",
       "    <tr>\n",
       "      <th>2010-01-01</th>\n",
       "      <td>36.00</td>\n",
       "      <td>88.00</td>\n",
       "      <td>30.67</td>\n",
       "    </tr>\n",
       "    <tr>\n",
       "      <th>2011-01-01</th>\n",
       "      <td>36.00</td>\n",
       "      <td>88.00</td>\n",
       "      <td>29.29</td>\n",
       "    </tr>\n",
       "    <tr>\n",
       "      <th>2012-01-01</th>\n",
       "      <td>36.00</td>\n",
       "      <td>88.00</td>\n",
       "      <td>28.57</td>\n",
       "    </tr>\n",
       "    <tr>\n",
       "      <th>2013-01-01</th>\n",
       "      <td>36.00</td>\n",
       "      <td>88.00</td>\n",
       "      <td>25.88</td>\n",
       "    </tr>\n",
       "    <tr>\n",
       "      <th>2014-01-01</th>\n",
       "      <td>36.00</td>\n",
       "      <td>88.00</td>\n",
       "      <td>28.20</td>\n",
       "    </tr>\n",
       "    <tr>\n",
       "      <th>2016-01-01</th>\n",
       "      <td>51.20</td>\n",
       "      <td>103.00</td>\n",
       "      <td>31.25</td>\n",
       "    </tr>\n",
       "    <tr>\n",
       "      <th>2017-01-01</th>\n",
       "      <td>46.14</td>\n",
       "      <td>91.56</td>\n",
       "      <td>30.67</td>\n",
       "    </tr>\n",
       "    <tr>\n",
       "      <th>2018-01-01</th>\n",
       "      <td>47.40</td>\n",
       "      <td>89.75</td>\n",
       "      <td>29.62</td>\n",
       "    </tr>\n",
       "    <tr>\n",
       "      <th>2019-01-01</th>\n",
       "      <td>32.38</td>\n",
       "      <td>78.62</td>\n",
       "      <td>25.75</td>\n",
       "    </tr>\n",
       "  </tbody>\n",
       "</table>\n",
       "</div>"
      ],
      "text/plain": [
       "            PM2_5    PM10    NO2\n",
       "Year                            \n",
       "2010-01-01  36.00   88.00  30.67\n",
       "2011-01-01  36.00   88.00  29.29\n",
       "2012-01-01  36.00   88.00  28.57\n",
       "2013-01-01  36.00   88.00  25.88\n",
       "2014-01-01  36.00   88.00  28.20\n",
       "2016-01-01  51.20  103.00  31.25\n",
       "2017-01-01  46.14   91.56  30.67\n",
       "2018-01-01  47.40   89.75  29.62\n",
       "2019-01-01  32.38   78.62  25.75"
      ]
     },
     "execution_count": 26,
     "metadata": {},
     "output_type": "execute_result"
    }
   ],
   "source": [
    "#extracting data for Bangalore\n",
    "group=d1.groupby(df.City)\n",
    "c2=group.get_group(\"Bangalore\")\n",
    "print(c2)\n",
    "b=c2.iloc[:,3:7]\n",
    "b\n",
    "b.set_index(\"Year\",inplace=True)\n",
    "b"
   ]
  },
  {
   "cell_type": "code",
   "execution_count": 27,
   "id": "7c1507a4",
   "metadata": {},
   "outputs": [
    {
     "data": {
      "image/png": "[encoded data removed]",
      "text/plain": [
       "<Figure size 720x360 with 1 Axes>"
      ]
     },
     "metadata": {
      "needs_background": "light"
     },
     "output_type": "display_data"
    }
   ],
   "source": [
    "#line-graph\n",
    "plt.figure(figsize=(10,5))\n",
    "plt.xlabel(\"Values\",color='red',fontsize=10)\n",
    "plt.ylabel(\"Years\",color='red',fontsize=10)\n",
    "plt.title(\"Line graph of Bangalore\",color='green',fontsize=15)\n",
    "lines=plt.plot(c2[['PM2_5','PM10','NO2']],)\n",
    "plt.legend(lines[:3], ['PM2_5', 'PM10','NO2']);"
   ]
  },
  {
   "cell_type": "markdown",
   "id": "161cbf94",
   "metadata": {},
   "source": [
    "The line graph of Bangalore gives an usual trend or non-stationarity in all the associated factors."
   ]
  },
  {
   "cell_type": "code",
   "execution_count": 28,
   "id": "5011a506",
   "metadata": {},
   "outputs": [
    {
     "data": {
      "text/plain": [
       "<AxesSubplot:>"
      ]
     },
     "execution_count": 28,
     "metadata": {},
     "output_type": "execute_result"
    },
    {
     "data": {
      "image/png": "[encoded data removed]",
      "text/plain": [
       "<Figure size 432x288 with 2 Axes>"
      ]
     },
     "metadata": {
      "needs_background": "light"
     },
     "output_type": "display_data"
    }
   ],
   "source": [
    "#heatmap\n",
    "corrmat2=b.corr()\n",
    "sns.heatmap(corrmat2,annot=True)"
   ]
  },
  {
   "cell_type": "markdown",
   "id": "0bd2825c",
   "metadata": {},
   "source": [
    "The heatmap, in case of Bangalore, shows a strong-positive correlation between PM2.5 and PM10 as well as PM10 and NO2. It also shows a strong relation between PM2.5 and NO2. The variables are highly correlated among each other."
   ]
  },
  {
   "cell_type": "code",
   "execution_count": 29,
   "id": "b1f8b7a1",
   "metadata": {},
   "outputs": [
    {
     "name": "stdout",
     "output_type": "stream",
     "text": [
      "    Country  Region      City       Year  PM2_5   PM10    NO2     PM2_5_p  \\\n",
      "130    India   East  Balasore 2010-01-01  36.00  88.00  12.00   82.692308   \n",
      "131    India   East  Balasore 2011-01-01  36.00  88.00  12.00   82.692308   \n",
      "132    India   East  Balasore 2012-01-01  36.00  88.00  14.00   82.692308   \n",
      "133    India   East  Balasore 2013-01-01  36.00  88.00  13.00   82.692308   \n",
      "134    India   East  Balasore 2014-01-01  36.00  88.00  12.33   82.692308   \n",
      "135    India   East  Balasore 2016-01-01  47.00  85.00  12.33   80.448718   \n",
      "136    India   East  Balasore 2017-01-01  45.00  83.00  11.33   99.038461   \n",
      "137    India   East  Balasore 2018-01-01  47.00  85.67  11.33  100.000000   \n",
      "138    India   East  Balasore 2019-01-01  46.33  86.00  11.00   99.679487   \n",
      "\n",
      "         PM10_p       NO2_p  \n",
      "130   94.230769   96.153846  \n",
      "131   94.230769   99.038461  \n",
      "132   94.230769   65.705128  \n",
      "133   94.230769   85.256410  \n",
      "134   94.230769   69.230769  \n",
      "135   82.051282   82.051282  \n",
      "136   99.038461   99.038461  \n",
      "137  100.000000  100.000000  \n",
      "138  100.000000  100.000000  \n"
     ]
    },
    {
     "data": {
      "text/html": [
       "<div>\n",
       "<style scoped>\n",
       "    .dataframe tbody tr th:only-of-type {\n",
       "        vertical-align: middle;\n",
       "    }\n",
       "\n",
       "    .dataframe tbody tr th {\n",
       "        vertical-align: top;\n",
       "    }\n",
       "\n",
       "    .dataframe thead th {\n",
       "        text-align: right;\n",
       "    }\n",
       "</style>\n",
       "<table border=\"1\" class=\"dataframe\">\n",
       "  <thead>\n",
       "    <tr style=\"text-align: right;\">\n",
       "      <th></th>\n",
       "      <th>PM2_5</th>\n",
       "      <th>PM10</th>\n",
       "      <th>NO2</th>\n",
       "    </tr>\n",
       "    <tr>\n",
       "      <th>Year</th>\n",
       "      <th></th>\n",
       "      <th></th>\n",
       "      <th></th>\n",
       "    </tr>\n",
       "  </thead>\n",
       "  <tbody>\n",
       "    <tr>\n",
       "      <th>2010-01-01</th>\n",
       "      <td>36.00</td>\n",
       "      <td>88.00</td>\n",
       "      <td>12.00</td>\n",
       "    </tr>\n",
       "    <tr>\n",
       "      <th>2011-01-01</th>\n",
       "      <td>36.00</td>\n",
       "      <td>88.00</td>\n",
       "      <td>12.00</td>\n",
       "    </tr>\n",
       "    <tr>\n",
       "      <th>2012-01-01</th>\n",
       "      <td>36.00</td>\n",
       "      <td>88.00</td>\n",
       "      <td>14.00</td>\n",
       "    </tr>\n",
       "    <tr>\n",
       "      <th>2013-01-01</th>\n",
       "      <td>36.00</td>\n",
       "      <td>88.00</td>\n",
       "      <td>13.00</td>\n",
       "    </tr>\n",
       "    <tr>\n",
       "      <th>2014-01-01</th>\n",
       "      <td>36.00</td>\n",
       "      <td>88.00</td>\n",
       "      <td>12.33</td>\n",
       "    </tr>\n",
       "    <tr>\n",
       "      <th>2016-01-01</th>\n",
       "      <td>47.00</td>\n",
       "      <td>85.00</td>\n",
       "      <td>12.33</td>\n",
       "    </tr>\n",
       "    <tr>\n",
       "      <th>2017-01-01</th>\n",
       "      <td>45.00</td>\n",
       "      <td>83.00</td>\n",
       "      <td>11.33</td>\n",
       "    </tr>\n",
       "    <tr>\n",
       "      <th>2018-01-01</th>\n",
       "      <td>47.00</td>\n",
       "      <td>85.67</td>\n",
       "      <td>11.33</td>\n",
       "    </tr>\n",
       "    <tr>\n",
       "      <th>2019-01-01</th>\n",
       "      <td>46.33</td>\n",
       "      <td>86.00</td>\n",
       "      <td>11.00</td>\n",
       "    </tr>\n",
       "  </tbody>\n",
       "</table>\n",
       "</div>"
      ],
      "text/plain": [
       "            PM2_5   PM10    NO2\n",
       "Year                           \n",
       "2010-01-01  36.00  88.00  12.00\n",
       "2011-01-01  36.00  88.00  12.00\n",
       "2012-01-01  36.00  88.00  14.00\n",
       "2013-01-01  36.00  88.00  13.00\n",
       "2014-01-01  36.00  88.00  12.33\n",
       "2016-01-01  47.00  85.00  12.33\n",
       "2017-01-01  45.00  83.00  11.33\n",
       "2018-01-01  47.00  85.67  11.33\n",
       "2019-01-01  46.33  86.00  11.00"
      ]
     },
     "execution_count": 29,
     "metadata": {},
     "output_type": "execute_result"
    }
   ],
   "source": [
    "#extracting data for Balasore\n",
    "group=d1.groupby(df.City)\n",
    "c3=group.get_group(\"Balasore\")\n",
    "print(c3)\n",
    "c=c3.iloc[:,3:7]\n",
    "c\n",
    "c.set_index(\"Year\",inplace=True)\n",
    "c"
   ]
  },
  {
   "cell_type": "code",
   "execution_count": 30,
   "id": "ca9e7a3d",
   "metadata": {},
   "outputs": [
    {
     "data": {
      "image/png": "[encoded data removed]",
      "text/plain": [
       "<Figure size 720x360 with 1 Axes>"
      ]
     },
     "metadata": {
      "needs_background": "light"
     },
     "output_type": "display_data"
    }
   ],
   "source": [
    "#line-graph\n",
    "plt.figure(figsize=(10,5))\n",
    "plt.xlabel(\"Values\",color='red',fontsize=10)\n",
    "plt.ylabel(\"Years\",color='red',fontsize=10)\n",
    "plt.title(\"Line graph of Balasore\",color='green',fontsize=15)\n",
    "lines=plt.plot(c3[['PM2_5','PM10','NO2']],)\n",
    "plt.legend(lines[:3], ['PM2_5', 'PM10','NO2']);"
   ]
  },
  {
   "cell_type": "markdown",
   "id": "5df3ec16",
   "metadata": {},
   "source": [
    "The line graph of Balasore gives an usual trend or non-stationarity in all the associated factors."
   ]
  },
  {
   "cell_type": "code",
   "execution_count": 31,
   "id": "31aa850a",
   "metadata": {},
   "outputs": [
    {
     "data": {
      "text/plain": [
       "<AxesSubplot:>"
      ]
     },
     "execution_count": 31,
     "metadata": {},
     "output_type": "execute_result"
    },
    {
     "data": {
      "image/png": "[encoded data removed]",
      "text/plain": [
       "<Figure size 432x288 with 2 Axes>"
      ]
     },
     "metadata": {
      "needs_background": "light"
     },
     "output_type": "display_data"
    }
   ],
   "source": [
    "#heatmap\n",
    "corrmat3=c.corr()\n",
    "sns.heatmap(corrmat3,annot=True)"
   ]
  },
  {
   "cell_type": "markdown",
   "id": "f0fa1dff",
   "metadata": {},
   "source": [
    "The heatmap here shows to be strong-negatively correlated between PM10 and PM2.5. "
   ]
  },
  {
   "cell_type": "code",
   "execution_count": 32,
   "id": "c880c99a",
   "metadata": {},
   "outputs": [
    {
     "name": "stdout",
     "output_type": "stream",
     "text": [
      "     Country  Region   City       Year  PM2_5    PM10    NO2     PM2_5_p  \\\n",
      "2199    India   West  Surat 2010-01-01  36.00   88.00  24.00   82.692308   \n",
      "2200    India   West  Surat 2011-01-01  36.00   88.00  26.33   82.692308   \n",
      "2201    India   West  Surat 2012-01-01  36.00   88.00  25.67   82.692308   \n",
      "2202    India   West  Surat 2013-01-01  36.00   88.00  19.33   82.692308   \n",
      "2203    India   West  Surat 2014-01-01  36.00   88.00  19.67   82.692308   \n",
      "2204    India   West  Surat 2016-01-01  31.33   92.00  22.33   88.782051   \n",
      "2205    India   West  Surat 2017-01-01  35.33  106.33  25.67  100.000000   \n",
      "2206    India   West  Surat 2018-01-01  56.33  176.33  29.00  100.000000   \n",
      "2207    India   West  Surat 2019-01-01  40.00  127.67  27.00   82.692308   \n",
      "\n",
      "          PM10_p       NO2_p  \n",
      "2199   94.230769  100.000000  \n",
      "2200   94.230769  100.000000  \n",
      "2201   94.230769   59.615385  \n",
      "2202   94.230769   85.897436  \n",
      "2203   94.230769   65.384615  \n",
      "2204   88.782051   88.782051  \n",
      "2205  100.000000  100.000000  \n",
      "2206  100.000000  100.000000  \n",
      "2207   81.730769   82.692308  \n"
     ]
    },
    {
     "data": {
      "text/html": [
       "<div>\n",
       "<style scoped>\n",
       "    .dataframe tbody tr th:only-of-type {\n",
       "        vertical-align: middle;\n",
       "    }\n",
       "\n",
       "    .dataframe tbody tr th {\n",
       "        vertical-align: top;\n",
       "    }\n",
       "\n",
       "    .dataframe thead th {\n",
       "        text-align: right;\n",
       "    }\n",
       "</style>\n",
       "<table border=\"1\" class=\"dataframe\">\n",
       "  <thead>\n",
       "    <tr style=\"text-align: right;\">\n",
       "      <th></th>\n",
       "      <th>PM2_5</th>\n",
       "      <th>PM10</th>\n",
       "      <th>NO2</th>\n",
       "    </tr>\n",
       "    <tr>\n",
       "      <th>Year</th>\n",
       "      <th></th>\n",
       "      <th></th>\n",
       "      <th></th>\n",
       "    </tr>\n",
       "  </thead>\n",
       "  <tbody>\n",
       "    <tr>\n",
       "      <th>2010-01-01</th>\n",
       "      <td>36.00</td>\n",
       "      <td>88.00</td>\n",
       "      <td>24.00</td>\n",
       "    </tr>\n",
       "    <tr>\n",
       "      <th>2011-01-01</th>\n",
       "      <td>36.00</td>\n",
       "      <td>88.00</td>\n",
       "      <td>26.33</td>\n",
       "    </tr>\n",
       "    <tr>\n",
       "      <th>2012-01-01</th>\n",
       "      <td>36.00</td>\n",
       "      <td>88.00</td>\n",
       "      <td>25.67</td>\n",
       "    </tr>\n",
       "    <tr>\n",
       "      <th>2013-01-01</th>\n",
       "      <td>36.00</td>\n",
       "      <td>88.00</td>\n",
       "      <td>19.33</td>\n",
       "    </tr>\n",
       "    <tr>\n",
       "      <th>2014-01-01</th>\n",
       "      <td>36.00</td>\n",
       "      <td>88.00</td>\n",
       "      <td>19.67</td>\n",
       "    </tr>\n",
       "    <tr>\n",
       "      <th>2016-01-01</th>\n",
       "      <td>31.33</td>\n",
       "      <td>92.00</td>\n",
       "      <td>22.33</td>\n",
       "    </tr>\n",
       "    <tr>\n",
       "      <th>2017-01-01</th>\n",
       "      <td>35.33</td>\n",
       "      <td>106.33</td>\n",
       "      <td>25.67</td>\n",
       "    </tr>\n",
       "    <tr>\n",
       "      <th>2018-01-01</th>\n",
       "      <td>56.33</td>\n",
       "      <td>176.33</td>\n",
       "      <td>29.00</td>\n",
       "    </tr>\n",
       "    <tr>\n",
       "      <th>2019-01-01</th>\n",
       "      <td>40.00</td>\n",
       "      <td>127.67</td>\n",
       "      <td>27.00</td>\n",
       "    </tr>\n",
       "  </tbody>\n",
       "</table>\n",
       "</div>"
      ],
      "text/plain": [
       "            PM2_5    PM10    NO2\n",
       "Year                            \n",
       "2010-01-01  36.00   88.00  24.00\n",
       "2011-01-01  36.00   88.00  26.33\n",
       "2012-01-01  36.00   88.00  25.67\n",
       "2013-01-01  36.00   88.00  19.33\n",
       "2014-01-01  36.00   88.00  19.67\n",
       "2016-01-01  31.33   92.00  22.33\n",
       "2017-01-01  35.33  106.33  25.67\n",
       "2018-01-01  56.33  176.33  29.00\n",
       "2019-01-01  40.00  127.67  27.00"
      ]
     },
     "execution_count": 32,
     "metadata": {},
     "output_type": "execute_result"
    }
   ],
   "source": [
    "#extracting data for Surat\n",
    "group=d1.groupby(df.City)\n",
    "c4=group.get_group(\"Surat\")\n",
    "print(c4)\n",
    "d=c4.iloc[:,3:7]\n",
    "d\n",
    "d.set_index(\"Year\",inplace=True)\n",
    "d"
   ]
  },
  {
   "cell_type": "code",
   "execution_count": 33,
   "id": "e66e257e",
   "metadata": {},
   "outputs": [
    {
     "data": {
      "image/png": "[encoded data removed]",
      "text/plain": [
       "<Figure size 720x360 with 1 Axes>"
      ]
     },
     "metadata": {
      "needs_background": "light"
     },
     "output_type": "display_data"
    }
   ],
   "source": [
    "#line-graph\n",
    "plt.figure(figsize=(10,5))\n",
    "plt.xlabel(\"Values\",color='red',fontsize=10)\n",
    "plt.ylabel(\"Years\",color='red',fontsize=10)\n",
    "plt.title(\"Line graph of Surat\",color='green',fontsize=15)\n",
    "lines=plt.plot(c4[['PM2_5','PM10','NO2']],)\n",
    "plt.legend(lines[:3], ['PM2_5', 'PM10','NO2']);"
   ]
  },
  {
   "cell_type": "markdown",
   "id": "2ae5565f",
   "metadata": {},
   "source": [
    "The line graph of Surat gives an usual trend or non-stationarity in all the associated factors."
   ]
  },
  {
   "cell_type": "code",
   "execution_count": 34,
   "id": "b6a1f2a5",
   "metadata": {},
   "outputs": [
    {
     "data": {
      "text/plain": [
       "<AxesSubplot:>"
      ]
     },
     "execution_count": 34,
     "metadata": {},
     "output_type": "execute_result"
    },
    {
     "data": {
      "image/png": "[encoded data removed]",
      "text/plain": [
       "<Figure size 432x288 with 2 Axes>"
      ]
     },
     "metadata": {
      "needs_background": "light"
     },
     "output_type": "display_data"
    }
   ],
   "source": [
    "#heatmap\n",
    "corrmat4=c.corr()\n",
    "sns.heatmap(corrmat4,annot=True)"
   ]
  },
  {
   "cell_type": "markdown",
   "id": "a093bbe4",
   "metadata": {},
   "source": [
    "The heatmap in Surat shows to have a negative but strong relation between PM2.5 AND PM10 . "
   ]
  },
  {
   "cell_type": "markdown",
   "id": "662d821b",
   "metadata": {},
   "source": [
    "# PREDICTIVE ANALYSIS- MOVING AVERAGE TIME SERIES"
   ]
  },
  {
   "cell_type": "markdown",
   "id": "cac1b50a",
   "metadata": {},
   "source": [
    "Next, we move on to the main analysis of the case study and start by decomposing the data.\n",
    "\n",
    "Decomposition provides a useful abstract model for thinking about time series generally and for better understanding problems during time series analysis and forecasting and hence, to have a clarity in the model, we decompose the data into Trend, Seasonality and Residuals.\n",
    "\n",
    "PM2.5, known as the fine particles, is not only one of the important factors of air pollution, but also a key factor which affects the air environment quality in some areas. Moreover, PM2. 5 is greatest harmful to human health.\n",
    "Therefore, we restrict our analysis only to PM2.5 (although it's not a dependent variable)."
   ]
  },
  {
   "cell_type": "code",
   "execution_count": 35,
   "id": "9f671300",
   "metadata": {},
   "outputs": [
    {
     "data": {
      "image/png": "[encoded data removed]",
      "text/plain": [
       "<Figure size 432x288 with 4 Axes>"
      ]
     },
     "metadata": {
      "needs_background": "light"
     },
     "output_type": "display_data"
    }
   ],
   "source": [
    "#decomposition for Agra\n",
    "from statsmodels.tsa.seasonal import seasonal_decompose\n",
    "result=seasonal_decompose(a['PM2_5'], model='additive', period=1)\n",
    "result.plot()\n",
    "plt.show() #first plot being the original one"
   ]
  },
  {
   "cell_type": "markdown",
   "id": "fd2ca7f9",
   "metadata": {},
   "source": [
    "The decomposition of Agra has a trend, i.e, it is non-stationary while there is no seasonality in the data since its a constant line. "
   ]
  },
  {
   "cell_type": "code",
   "execution_count": 36,
   "id": "a9a75027",
   "metadata": {},
   "outputs": [
    {
     "data": {
      "image/png": "[encoded data removed]",
      "text/plain": [
       "<Figure size 432x288 with 4 Axes>"
      ]
     },
     "metadata": {
      "needs_background": "light"
     },
     "output_type": "display_data"
    }
   ],
   "source": [
    "#decomposition for Bangalore \n",
    "result=seasonal_decompose(b['PM2_5'], model='additive', period=1)\n",
    "result.plot()\n",
    "plt.show() #first plot being the original one"
   ]
  },
  {
   "cell_type": "markdown",
   "id": "d2dc5e87",
   "metadata": {},
   "source": [
    "The decomposition of Bangalore has a trend, i.e, it is non-stationary while there is no seasonality in the data since its a constant line. "
   ]
  },
  {
   "cell_type": "code",
   "execution_count": 37,
   "id": "ff73aff1",
   "metadata": {},
   "outputs": [
    {
     "data": {
      "image/png": "[encoded data removed]",
      "text/plain": [
       "<Figure size 432x288 with 4 Axes>"
      ]
     },
     "metadata": {
      "needs_background": "light"
     },
     "output_type": "display_data"
    }
   ],
   "source": [
    "#decomposition for Balasore\n",
    "result=seasonal_decompose(c['PM2_5'], model='additive', period=1)\n",
    "result.plot()\n",
    "plt.show() #first plot being the original one"
   ]
  },
  {
   "cell_type": "markdown",
   "id": "2accbcb8",
   "metadata": {},
   "source": [
    "The decomposition of Balasore has a trend, i.e, it is non-stationary while there is no seasonality in the data since its a constant line. "
   ]
  },
  {
   "cell_type": "code",
   "execution_count": 38,
   "id": "5f46502d",
   "metadata": {},
   "outputs": [
    {
     "data": {
      "image/png": "[encoded data removed]",
      "text/plain": [
       "<Figure size 432x288 with 4 Axes>"
      ]
     },
     "metadata": {
      "needs_background": "light"
     },
     "output_type": "display_data"
    }
   ],
   "source": [
    "#decomposition for Surat\n",
    "result=seasonal_decompose(d['PM2_5'], model='additive', period=1)\n",
    "result.plot()\n",
    "plt.show() #first plot being the original one"
   ]
  },
  {
   "cell_type": "markdown",
   "id": "dc7dfdfe",
   "metadata": {},
   "source": [
    "The decomposition of Surat has a trend, i.e., it is non-stationary while there is no seasonality in the data since its a constant line. "
   ]
  },
  {
   "cell_type": "markdown",
   "id": "3f901f92",
   "metadata": {},
   "source": [
    "The decomposition structure of every city shows that since the seasonality is constant throughout the years, there is no seasonal trend in the data or there is no seasonality in the data. \n",
    "\n",
    "As far as trend is concerned, we see there is non-stationarity or wee see a trend in every city. So, further we confirm this trend or non-stationarity using \"Dickey-Fuller Test\". This test gives us a \"p-value\" to conclude on the non-stationarity.\n",
    "\n",
    "Trends can result in a varying mean over time and therefore if there is non-stationarity (trend) in the data, we use the method of \"Differencing\" to de-trend it. Differencing is a method of transforming a time series dataset. It can be used to remove the series dependence on time, so-called temporal dependence. This includes structures like trends and seasonality. "
   ]
  },
  {
   "cell_type": "code",
   "execution_count": 39,
   "id": "82ce8057",
   "metadata": {},
   "outputs": [
    {
     "name": "stdout",
     "output_type": "stream",
     "text": [
      "1. ADF :  -0.8521619321683982\n",
      "2. P-Value :  0.8033179238233332\n",
      "3. Num Of Lags :  0\n",
      "4. Num Of Observations Used For ADF Regression and Critical Values Calculation : 8\n",
      "5. Critical Values :\n",
      "\t 1% :  -4.6651863281249994\n",
      "\t 5% :  -3.3671868750000002\n",
      "\t 10% :  -2.802960625\n"
     ]
    }
   ],
   "source": [
    "#dickey fuller test to confirm non-stationarity\n",
    "\n",
    "#H0: The model is non-stationary\n",
    "#H1: The model is stationary\n",
    "#We reject H0 at alpha level of significance if p value<0.05 (alpha)\n",
    "\n",
    "from statsmodels.tsa.stattools import adfuller\n",
    "dftest = adfuller(a['PM2_5'], autolag = 'AIC')\n",
    "print(\"1. ADF : \",dftest[0])\n",
    "print(\"2. P-Value : \", dftest[1])\n",
    "print(\"3. Num Of Lags : \", dftest[2])\n",
    "print(\"4. Num Of Observations Used For ADF Regression and Critical Values Calculation :\", dftest[3])\n",
    "print(\"5. Critical Values :\")\n",
    "for key, val in dftest[4].items():\n",
    "    print(\"\\t\",key, \": \", val) "
   ]
  },
  {
   "cell_type": "markdown",
   "id": "464bb9bc",
   "metadata": {},
   "source": [
    "We see the p value (0.8013) > 0.05 and hence we fail to reject H0 at alpha level of significance. Thus, we say there in non-stationarity or trend in the data. To remove this, we de-trend it using Differencing and check the trend again using Dickey Fuler Test."
   ]
  },
  {
   "cell_type": "code",
   "execution_count": 40,
   "id": "e6173910",
   "metadata": {},
   "outputs": [
    {
     "data": {
      "text/plain": [
       "<AxesSubplot:xlabel='Year'>"
      ]
     },
     "execution_count": 40,
     "metadata": {},
     "output_type": "execute_result"
    },
    {
     "data": {
      "image/png": "[encoded data removed]",
      "text/plain": [
       "<Figure size 432x288 with 1 Axes>"
      ]
     },
     "metadata": {
      "needs_background": "light"
     },
     "output_type": "display_data"
    }
   ],
   "source": [
    "#method of differencing\n",
    "a['PM2_5 first difference']=a['PM2_5']-a['PM2_5'].shift(1)\n",
    "a['PM2_5 first difference'].plot()"
   ]
  },
  {
   "cell_type": "code",
   "execution_count": 41,
   "id": "f54cdc4c",
   "metadata": {},
   "outputs": [
    {
     "name": "stdout",
     "output_type": "stream",
     "text": [
      "ADF Statistics  -3.1447205250916723\n",
      "p-value 0.02341586382581255\n",
      "critical values 53.553583497328106\n",
      "The data is stationary\n"
     ]
    }
   ],
   "source": [
    "#dickey-fuller test after de-trending the data\n",
    "x=a['PM2_5 first difference'].dropna() \n",
    "result=adfuller(x)\n",
    "print(\"ADF Statistics \",result[0])\n",
    "print(\"p-value\",result[1])\n",
    "print(\"critical values\",result[5])\n",
    "if result[1]<=0.05:\n",
    "    print(\"The data is stationary\")\n",
    "else:\n",
    "    print(\"The data is non-stationary\")"
   ]
  },
  {
   "cell_type": "markdown",
   "id": "84d296de",
   "metadata": {},
   "source": [
    "Now, the p value (0.02) < 0.05. Hence, we reject H0 and conclude there in no trend in the data. It is now stationary.\n",
    "We carry on the analysis for the rest of cities in the similar manner."
   ]
  },
  {
   "cell_type": "code",
   "execution_count": 42,
   "id": "51c386bb",
   "metadata": {},
   "outputs": [
    {
     "name": "stdout",
     "output_type": "stream",
     "text": [
      "1. ADF :  -1.743464969720068\n",
      "2. P-Value :  0.40886850007678965\n",
      "3. Num Of Lags :  0\n",
      "4. Num Of Observations Used For ADF Regression and Critical Values Calculation : 8\n",
      "5. Critical Values :\n",
      "\t 1% :  -4.6651863281249994\n",
      "\t 5% :  -3.3671868750000002\n",
      "\t 10% :  -2.802960625\n"
     ]
    }
   ],
   "source": [
    "#dftest for Bangalore\n",
    "\n",
    "dftest = adfuller(b['PM2_5'], autolag = 'AIC')\n",
    "print(\"1. ADF : \",dftest[0])\n",
    "print(\"2. P-Value : \", dftest[1])\n",
    "print(\"3. Num Of Lags : \", dftest[2])\n",
    "print(\"4. Num Of Observations Used For ADF Regression and Critical Values Calculation :\", dftest[3])\n",
    "print(\"5. Critical Values :\")\n",
    "for key, val in dftest[4].items():\n",
    "    print(\"\\t\",key, \": \", val)"
   ]
  },
  {
   "cell_type": "markdown",
   "id": "cb910ad7",
   "metadata": {},
   "source": [
    "We see the p value (0.4088) > 0.05 and hence we fail to reject H0 at alpha level of significance. Thus, we say there in non-stationarity or trend in the data. To remove this, we de-trend it using Differencing and check the trend again using Dickey Fuler Test."
   ]
  },
  {
   "cell_type": "code",
   "execution_count": 43,
   "id": "2040b09d",
   "metadata": {},
   "outputs": [
    {
     "data": {
      "text/plain": [
       "<AxesSubplot:xlabel='Year'>"
      ]
     },
     "execution_count": 43,
     "metadata": {},
     "output_type": "execute_result"
    },
    {
     "data": {
      "image/png": "[encoded data removed]",
      "text/plain": [
       "<Figure size 432x288 with 1 Axes>"
      ]
     },
     "metadata": {
      "needs_background": "light"
     },
     "output_type": "display_data"
    }
   ],
   "source": [
    "#Method of Differencing\n",
    "\n",
    "b['PM2_5 first difference']=b['PM2_5']-b['PM2_5'].shift(1)\n",
    "b['PM2_5 first difference'].plot()"
   ]
  },
  {
   "cell_type": "code",
   "execution_count": 44,
   "id": "fd0e9651",
   "metadata": {},
   "outputs": [
    {
     "name": "stdout",
     "output_type": "stream",
     "text": [
      "ADF Statistics  -1.7459368802744308\n",
      "p-value 0.40761321095686864\n",
      "critical values 37.889414145598806\n",
      "The data is non-stationary\n"
     ]
    }
   ],
   "source": [
    "#dickey fuller test after de-trending\n",
    "x=b['PM2_5 first difference'].dropna()\n",
    "result=adfuller(x)\n",
    "print(\"ADF Statistics \",result[0])\n",
    "print(\"p-value\",result[1])\n",
    "print(\"critical values\",result[5])\n",
    "\n",
    "if result[1]<=0.05:\n",
    "    print(\"The data is stationary\")\n",
    "else:\n",
    "    print(\"The data is non-stationary\")"
   ]
  },
  {
   "cell_type": "code",
   "execution_count": 45,
   "id": "b02763a3",
   "metadata": {},
   "outputs": [
    {
     "data": {
      "text/plain": [
       "<AxesSubplot:xlabel='Year'>"
      ]
     },
     "execution_count": 45,
     "metadata": {},
     "output_type": "execute_result"
    },
    {
     "data": {
      "image/png": "[encoded data removed]",
      "text/plain": [
       "<Figure size 432x288 with 1 Axes>"
      ]
     },
     "metadata": {
      "needs_background": "light"
     },
     "output_type": "display_data"
    }
   ],
   "source": [
    "b['PM2_5 first difference']=b['PM2_5']-b['PM2_5'].shift(2)\n",
    "b['PM2_5 first difference'].plot()"
   ]
  },
  {
   "cell_type": "code",
   "execution_count": 46,
   "id": "e45bb398",
   "metadata": {},
   "outputs": [
    {
     "name": "stdout",
     "output_type": "stream",
     "text": [
      "ADF Statistics  -1.8722613391961385\n",
      "p-value 0.3452206259753783\n",
      "critical values 37.93864536907394\n",
      "The data is non-stationary\n"
     ]
    }
   ],
   "source": [
    "x=b['PM2_5 first difference'].dropna()\n",
    "result=adfuller(x)\n",
    "print(\"ADF Statistics \",result[0])\n",
    "print(\"p-value\",result[1])\n",
    "print(\"critical values\",result[5])\n",
    "\n",
    "if result[1]<=0.05:\n",
    "    print(\"The data is stationary\")\n",
    "else:\n",
    "    print(\"The data is non-stationary\")"
   ]
  },
  {
   "cell_type": "markdown",
   "id": "97c6531b",
   "metadata": {},
   "source": [
    "We see, in the case of Bangalore, we needed to use the differencing method for the second time to de-trend the data. Even after that, trend or non-stationarity still persists in the data. So, we conclude there is a trend in this data."
   ]
  },
  {
   "cell_type": "code",
   "execution_count": 47,
   "id": "e31f2301",
   "metadata": {},
   "outputs": [
    {
     "name": "stdout",
     "output_type": "stream",
     "text": [
      "1. ADF :  -0.8705809973482174\n",
      "2. P-Value :  0.7975061019973512\n",
      "3. Num Of Lags :  0\n",
      "4. Num Of Observations Used For ADF Regression and Critical Values Calculation : 8\n",
      "5. Critical Values :\n",
      "\t 1% :  -4.6651863281249994\n",
      "\t 5% :  -3.3671868750000002\n",
      "\t 10% :  -2.802960625\n"
     ]
    }
   ],
   "source": [
    "#dftest for Balasore\n",
    "dftest = adfuller(c['PM2_5'], autolag = 'AIC')\n",
    "print(\"1. ADF : \",dftest[0])\n",
    "print(\"2. P-Value : \", dftest[1])\n",
    "print(\"3. Num Of Lags : \", dftest[2])\n",
    "print(\"4. Num Of Observations Used For ADF Regression and Critical Values Calculation :\", dftest[3])\n",
    "print(\"5. Critical Values :\")\n",
    "for key, val in dftest[4].items():\n",
    "    print(\"\\t\",key, \": \", val)"
   ]
  },
  {
   "cell_type": "markdown",
   "id": "35868f8d",
   "metadata": {},
   "source": [
    "We see the p value (0.7975) > 0.05 and hence we fail to reject H0 at alpha level of significance. Thus, we say there in non-stationarity or trend in the data. To remove this, we de-trend it using Differencing and check the trend again using Dickey Fuler Test."
   ]
  },
  {
   "cell_type": "code",
   "execution_count": 48,
   "id": "5f49e25e",
   "metadata": {},
   "outputs": [
    {
     "data": {
      "text/plain": [
       "<AxesSubplot:xlabel='Year'>"
      ]
     },
     "execution_count": 48,
     "metadata": {},
     "output_type": "execute_result"
    },
    {
     "data": {
      "image/png": "[encoded data removed]",
      "text/plain": [
       "<Figure size 432x288 with 1 Axes>"
      ]
     },
     "metadata": {
      "needs_background": "light"
     },
     "output_type": "display_data"
    }
   ],
   "source": [
    "#Method of Differencing\n",
    "\n",
    "c['PM2_5 first difference']=c['PM2_5']-b['PM2_5'].shift(1)\n",
    "c['PM2_5 first difference'].plot()"
   ]
  },
  {
   "cell_type": "code",
   "execution_count": 49,
   "id": "537ef425",
   "metadata": {},
   "outputs": [
    {
     "name": "stdout",
     "output_type": "stream",
     "text": [
      "ADF Statistics  -3.8405338853651396\n",
      "p-value 0.002518787631053146\n",
      "critical values 33.90394960226483\n",
      "The data is stationary\n"
     ]
    }
   ],
   "source": [
    "#dickey fuller test after de-trending\n",
    "\n",
    "x=c['PM2_5 first difference'].dropna()\n",
    "result=adfuller(x)\n",
    "print(\"ADF Statistics \",result[0])\n",
    "print(\"p-value\",result[1])\n",
    "print(\"critical values\",result[5])\n",
    "\n",
    "if result[1]<=0.05:\n",
    "    print(\"The data is stationary\")\n",
    "else:\n",
    "    print(\"The data is non-stationary\")"
   ]
  },
  {
   "cell_type": "markdown",
   "id": "7fd7cd34",
   "metadata": {},
   "source": [
    "Now, the p value (0.02) < 0.05. Hence, we reject H0 and conclude there in no trend in the data anymore. "
   ]
  },
  {
   "cell_type": "code",
   "execution_count": 50,
   "id": "3494974b",
   "metadata": {},
   "outputs": [
    {
     "name": "stdout",
     "output_type": "stream",
     "text": [
      "1. ADF :  -11.124832073112907\n",
      "2. P-Value :  3.3945925502107085e-20\n",
      "3. Num Of Lags :  1\n",
      "4. Num Of Observations Used For ADF Regression and Critical Values Calculation : 7\n",
      "5. Critical Values :\n",
      "\t 1% :  -4.9386902332361515\n",
      "\t 5% :  -3.477582857142857\n",
      "\t 10% :  -2.8438679591836733\n"
     ]
    }
   ],
   "source": [
    "#dftest for Surat\n",
    "\n",
    "dftest = adfuller(d['PM2_5'], autolag = 'AIC')\n",
    "print(\"1. ADF : \",dftest[0])\n",
    "print(\"2. P-Value : \", dftest[1])\n",
    "print(\"3. Num Of Lags : \", dftest[2])\n",
    "print(\"4. Num Of Observations Used For ADF Regression and Critical Values Calculation :\", dftest[3])\n",
    "print(\"5. Critical Values :\")\n",
    "for key, val in dftest[4].items():\n",
    "    print(\"\\t\",key, \": \", val)"
   ]
  },
  {
   "cell_type": "markdown",
   "id": "e5ac0ae9",
   "metadata": {},
   "source": [
    "Now, the p value (3.39e^-20) < 0.05. Hence, we reject H0 and conclude there in no trend in the data. Moreover, there is no need to use the method of differencing here, since we don't need to de-trend the data."
   ]
  },
  {
   "cell_type": "markdown",
   "id": "25f7634a",
   "metadata": {},
   "source": [
    "The final thing we do here is to predict the value using \"Moving Average Time Series Analysis\". \n",
    "The moving average (MA) is a simple technical analysis tool that smooths out price data by creating a constantly updated average price. It is a statistical method used for forecasting long-term trends. We compare the predicted value with the observed value to check the similarity between the two values.\n",
    "\n",
    "A finite MA model is always stationary. So we don't calculate the MA for non-stationary city (Bangalore)."
   ]
  },
  {
   "cell_type": "code",
   "execution_count": 51,
   "id": "3828c9be",
   "metadata": {},
   "outputs": [
    {
     "data": {
      "text/html": [
       "<div>\n",
       "<style scoped>\n",
       "    .dataframe tbody tr th:only-of-type {\n",
       "        vertical-align: middle;\n",
       "    }\n",
       "\n",
       "    .dataframe tbody tr th {\n",
       "        vertical-align: top;\n",
       "    }\n",
       "\n",
       "    .dataframe thead th {\n",
       "        text-align: right;\n",
       "    }\n",
       "</style>\n",
       "<table border=\"1\" class=\"dataframe\">\n",
       "  <thead>\n",
       "    <tr style=\"text-align: right;\">\n",
       "      <th></th>\n",
       "      <th>PM2_5</th>\n",
       "      <th>SMA09</th>\n",
       "    </tr>\n",
       "    <tr>\n",
       "      <th>Year</th>\n",
       "      <th></th>\n",
       "      <th></th>\n",
       "    </tr>\n",
       "  </thead>\n",
       "  <tbody>\n",
       "    <tr>\n",
       "      <th>2019-01-01</th>\n",
       "      <td>109.67</td>\n",
       "      <td>61.657778</td>\n",
       "    </tr>\n",
       "  </tbody>\n",
       "</table>\n",
       "</div>"
      ],
      "text/plain": [
       "             PM2_5      SMA09\n",
       "Year                         \n",
       "2019-01-01  109.67  61.657778"
      ]
     },
     "execution_count": 51,
     "metadata": {},
     "output_type": "execute_result"
    }
   ],
   "source": [
    "#moving average for Agra\n",
    "#updating the dataframe\n",
    "a= a['PM2_5'].to_frame()\n",
    "\n",
    "# calculating simple moving average\n",
    "a['SMA09'] = a['PM2_5'].rolling(9).mean()\n",
    "\n",
    "# removing all the NULL values using\n",
    "# dropna() method\n",
    "\n",
    "a.dropna(inplace=True)\n",
    "a"
   ]
  },
  {
   "cell_type": "code",
   "execution_count": 52,
   "id": "b586f665",
   "metadata": {},
   "outputs": [
    {
     "data": {
      "text/html": [
       "<div>\n",
       "<style scoped>\n",
       "    .dataframe tbody tr th:only-of-type {\n",
       "        vertical-align: middle;\n",
       "    }\n",
       "\n",
       "    .dataframe tbody tr th {\n",
       "        vertical-align: top;\n",
       "    }\n",
       "\n",
       "    .dataframe thead th {\n",
       "        text-align: right;\n",
       "    }\n",
       "</style>\n",
       "<table border=\"1\" class=\"dataframe\">\n",
       "  <thead>\n",
       "    <tr style=\"text-align: right;\">\n",
       "      <th></th>\n",
       "      <th>PM2_5</th>\n",
       "      <th>SMA09</th>\n",
       "    </tr>\n",
       "    <tr>\n",
       "      <th>Year</th>\n",
       "      <th></th>\n",
       "      <th></th>\n",
       "    </tr>\n",
       "  </thead>\n",
       "  <tbody>\n",
       "    <tr>\n",
       "      <th>2019-01-01</th>\n",
       "      <td>46.33</td>\n",
       "      <td>40.592222</td>\n",
       "    </tr>\n",
       "  </tbody>\n",
       "</table>\n",
       "</div>"
      ],
      "text/plain": [
       "            PM2_5      SMA09\n",
       "Year                        \n",
       "2019-01-01  46.33  40.592222"
      ]
     },
     "execution_count": 52,
     "metadata": {},
     "output_type": "execute_result"
    }
   ],
   "source": [
    "#Moving average for Balasore\n",
    "\n",
    "c= c['PM2_5'].to_frame()\n",
    "c['SMA09'] = c['PM2_5'].rolling(9).mean()\n",
    "c.dropna(inplace=True)\n",
    "c"
   ]
  },
  {
   "cell_type": "code",
   "execution_count": 53,
   "id": "5f3251ef",
   "metadata": {},
   "outputs": [
    {
     "data": {
      "text/html": [
       "<div>\n",
       "<style scoped>\n",
       "    .dataframe tbody tr th:only-of-type {\n",
       "        vertical-align: middle;\n",
       "    }\n",
       "\n",
       "    .dataframe tbody tr th {\n",
       "        vertical-align: top;\n",
       "    }\n",
       "\n",
       "    .dataframe thead th {\n",
       "        text-align: right;\n",
       "    }\n",
       "</style>\n",
       "<table border=\"1\" class=\"dataframe\">\n",
       "  <thead>\n",
       "    <tr style=\"text-align: right;\">\n",
       "      <th></th>\n",
       "      <th>PM2_5</th>\n",
       "      <th>SMA09</th>\n",
       "    </tr>\n",
       "    <tr>\n",
       "      <th>Year</th>\n",
       "      <th></th>\n",
       "      <th></th>\n",
       "    </tr>\n",
       "  </thead>\n",
       "  <tbody>\n",
       "    <tr>\n",
       "      <th>2019-01-01</th>\n",
       "      <td>40.0</td>\n",
       "      <td>38.11</td>\n",
       "    </tr>\n",
       "  </tbody>\n",
       "</table>\n",
       "</div>"
      ],
      "text/plain": [
       "            PM2_5  SMA09\n",
       "Year                    \n",
       "2019-01-01   40.0  38.11"
      ]
     },
     "execution_count": 53,
     "metadata": {},
     "output_type": "execute_result"
    }
   ],
   "source": [
    "#Moving average for Surat\n",
    "\n",
    "d= d['PM2_5'].to_frame()\n",
    "d['SMA09'] = d['PM2_5'].rolling(9).mean()\n",
    "d.dropna(inplace=True)\n",
    "d"
   ]
  },
  {
   "cell_type": "markdown",
   "id": "46c9d03a",
   "metadata": {},
   "source": [
    "Finally, on seeing the predicted values given by the Moving Average Time Series, the values are similar to the observed values of the cities that we already have in the dataset. We can conveniently conclude how the dataset worked well with the MA Time Series Technique to give an interpretation between predicted and observed value of the year 2019 for Agra, Balasore and Surat."
   ]
  },
  {
   "cell_type": "markdown",
   "id": "e1f5e67e",
   "metadata": {},
   "source": [
    "# CONCLUSION:"
   ]
  },
  {
   "cell_type": "markdown",
   "id": "fe8955c1",
   "metadata": {},
   "source": [
    "Based on these values, we see the PM 2.5 value to be the highest in Agra. This may be because of high temperatures and dust storms entering the city from Rajasthan leading the poor air quality and hence, Agra is ranked fourth among the cities with the poorest air quality.\n",
    "\n",
    "Speaking about Balasore (Odisha), The National Green Tribunal (NGT) in its hearing on November 10, 2018 observed that in Odisha, the primary reasons of air pollution are vehicular emission, road dust, industrial pollution, pollution from construction, and demolition work.Particulate Matter in ambient air of urban areas is mainly contributed by vehicular emission, fuel quality, MSW management, road conditions etc. Textile processing industries located in and around the city of Surat are also sources of PM emission.\n",
    "\n",
    "Reducing pollutants in the air is important for human health and the environment. Air pollution is causing to be one of the most essential reasons for peoples' poor health and so, required measures need to be taken not only by the government, but also by the people of the nation as the responsible citizens. \n",
    "\n",
    "We have thus explored the analysis based on Time Series with respect to Trends and Seasonality in our case study. "
   ]
  }
 ],
 "metadata": {
  "kernelspec": {
   "display_name": "Python 3 (ipykernel)",
   "language": "python",
   "name": "python3"
  },
  "language_info": {
   "codemirror_mode": {
    "name": "ipython",
    "version": 3
   },
   "file_extension": ".py",
   "mimetype": "text/x-python",
   "name": "python",
   "nbconvert_exporter": "python",
   "pygments_lexer": "ipython3",
   "version": "3.9.7"
  }
 },
 "nbformat": 4,
 "nbformat_minor": 5
}
